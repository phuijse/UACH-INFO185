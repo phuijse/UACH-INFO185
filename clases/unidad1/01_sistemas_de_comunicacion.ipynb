{
 "cells": [
  {
   "cell_type": "markdown",
   "metadata": {
    "hideCode": false,
    "hidePrompt": false,
    "slideshow": {
     "slide_type": "slide"
    }
   },
   "source": [
    "# Sistemas de comunicación digitales\n",
    "\n",
    "Los sistemas y tecnologías de comunicación digital han tenido un crecimiento exponencial en las últimas decadas y podemos encontrarlos en múltiples aspectos de nuestra vida diaria. \n",
    "\n",
    "Hoy en día gran parte de los sistemas de comunicacion están basados en la transmisión de señales eléctricas\n",
    "\n",
    "\n",
    "¿Puedes reconocer algunos de los estándares que se muestran a continuación?\n",
    "\n",
    "<img src=\"../images/standards.png\" width=\"500\">"
   ]
  },
  {
   "cell_type": "markdown",
   "metadata": {
    "slideshow": {
     "slide_type": "slide"
    }
   },
   "source": [
    "## Modelo de Shannon\n",
    "\n",
    "El [modelo de Shannon](https://en.wikipedia.org/wiki/Shannon%E2%80%93Weaver_model) define los elementos básicos de un sistema de comunicación\n",
    "\n",
    "<img src=\"../images/shannon-diagram.svg\" width=\"500\">\n"
   ]
  },
  {
   "cell_type": "markdown",
   "metadata": {
    "slideshow": {
     "slide_type": "slide"
    }
   },
   "source": [
    "- **Mensaje**: Es la información que deseamos enviar \n",
    "- **Transmisor**: Convierte el mensaje a impulsos eléctricos usando un sensor/transductor, luego lo transforma, codifica y transmite. El objetivo de la transformación es hacer la transmisión lo más eficiente posible\n",
    "- **Señal** Es el mensaje convertido por el transmisor tal que puede viajar por el canal hacia el receptor\n",
    "- **Canal** Es el medio por el cual se envian las señales eléctricas del transmisor hacia el receptor\n",
    "- **Receptor** Captura la señal del transmisor, aplica las transformaciones inversas y lo convierte a su forma original por medio de un actuador/transductor"
   ]
  },
  {
   "cell_type": "markdown",
   "metadata": {
    "slideshow": {
     "slide_type": "skip"
    }
   },
   "source": [
    "**Ejemplo:** Walkie-talkie con modulación FM\n",
    "\n",
    "Identifica los siguientes conceptos:\n",
    "\n",
    "> idea, voz, microfono, audio, señal modulada, aire, parlante, oido\n",
    "\n",
    "con los bloques del modelo de Shannon\n",
    "\n",
    "<img src=\"../images/walkietalkie.jpg\">\n",
    "\n",
    "```{admonition} Reflexione\n",
    ":class: tip\n",
    "¿Puedes repetir este ejercicio para los estándares que mencionamos anteriomente?\n",
    "```\n",
    "\n"
   ]
  },
  {
   "cell_type": "markdown",
   "metadata": {
    "slideshow": {
     "slide_type": "fragment"
    }
   },
   "source": [
    "**Canal**\n",
    "\n",
    "- En general el canal actua como un atenuador de la señal\n",
    "- La atenuación es mayor mientras más \"largo\" sea el canal\n",
    "- Ciertas distorciones pueden ser corregidas por el receptor usando ecualización\n",
    "\n",
    "**Ruido**\n",
    "\n",
    "- El ruido es  una corrupción o interferencia indeseable que modifica la señal cuando esta pasa por el canal\n",
    "- Por lo general aleatorio, puede reducirse para nunca eliminarse por completo\n",
    "- En muchos casos quien pone los límites en los sistemas de comunicación"
   ]
  },
  {
   "cell_type": "code",
   "execution_count": null,
   "metadata": {},
   "outputs": [],
   "source": []
  }
 ],
 "metadata": {
  "hide_code_all_hidden": false,
  "kernelspec": {
   "display_name": "Python 3",
   "language": "python",
   "name": "python3"
  },
  "language_info": {
   "codemirror_mode": {
    "name": "ipython",
    "version": 3
   },
   "file_extension": ".py",
   "mimetype": "text/x-python",
   "name": "python",
   "nbconvert_exporter": "python",
   "pygments_lexer": "ipython3",
   "version": "3.7.10"
  }
 },
 "nbformat": 4,
 "nbformat_minor": 2
}
