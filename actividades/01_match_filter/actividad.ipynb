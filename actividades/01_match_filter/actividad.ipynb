{
 "cells": [
  {
   "cell_type": "code",
   "execution_count": null,
   "metadata": {},
   "outputs": [],
   "source": [
    "%matplotlib notebook\n",
    "import numpy as np\n",
    "import matplotlib.pyplot as plt"
   ]
  },
  {
   "cell_type": "markdown",
   "metadata": {},
   "source": [
    "# Transformada de Fourier 1D\n",
    "\n",
    "1. Use scipy.fftpack para calcular la transformada de Fourier de la señal con valores reales guardada en `data.pkl`\n",
    "1. Muestre el espectro de magnitud y el espectro de fase.\n",
    "1. Determine las frecuencias más relevantes estudiando el espectro de magnitud y extraiga sus amplitudes y ángulos asociados\n",
    "1. Reconstruya la señal \"limpia\" usando:\n",
    "\n",
    "$$\n",
    "y = \\sum_{k=1}^K A_k \\cos(2\\pi t f_k + \\phi_k) \n",
    "$$\n",
    "\n",
    "donde $f_k, A_k, \\phi_k$ son las $K$ frecuencias, amplitudes y ángulos que usted seleccionó"
   ]
  },
  {
   "cell_type": "code",
   "execution_count": null,
   "metadata": {},
   "outputs": [],
   "source": [
    "import pickle\n",
    "t, s, Fs = pickle.load(open(\"data.pkl\", \"rb\"))\n",
    "\n",
    "fig, ax = plt.subplots(figsize=(6, 3), tight_layout=True)\n",
    "ax.plot(t, s, '.');\n",
    "ax.set_xlabel('Tiempo [s]')\n",
    "ax.set_ylabel('Señal');"
   ]
  },
  {
   "cell_type": "code",
   "execution_count": null,
   "metadata": {},
   "outputs": [],
   "source": []
  },
  {
   "cell_type": "markdown",
   "metadata": {},
   "source": [
    "# Match filter\n",
    "\n",
    "Un *match filter* es un filtro convolucional cuyo objetivo es detectar la presencia de una señal modelo o *template* dentro de otra señal\n",
    "\n",
    "En este experimento usaremos imágenes en escala de grises\n",
    "\n",
    "- La imagen denominada `template` corresponde al modelo\n",
    "- La imagen denominada `data` corresponde a la imagen de prueba, es decir la señal donde queremos detectar la presencia o ausencia de nuestro modelo\n",
    "\n"
   ]
  },
  {
   "cell_type": "code",
   "execution_count": null,
   "metadata": {},
   "outputs": [],
   "source": [
    "template = plt.imread(\"template.png\")\n",
    "\n",
    "def get_data(s_noise=0.1):\n",
    "    escena = plt.imread(\"mario1.png\")\n",
    "    return escena + s_noise*np.random.randn(*escena.shape)\n",
    "\n",
    "data = get_data(s_noise=0.1)\n",
    "\n",
    "fig, ax = plt.subplots(1, 2, figsize=(10, 4))\n",
    "ax[0].imshow(template, cmap=plt.cm.Greys_r);\n",
    "ax[1].imshow(data, cmap=plt.cm.Greys_r);"
   ]
  },
  {
   "cell_type": "markdown",
   "metadata": {},
   "source": [
    "> El objetivo es programar un match filter que actue como un detector de monedas para Mario\n",
    "\n",
    "Para esto utilice la función de scipy [`correlate2d`](https://docs.scipy.org/doc/scipy-0.15.1/reference/generated/scipy.signal.correlate2d.html). Instrucciones detalladas:\n",
    "\n",
    "1. Obtenga versiones centradas de `data` y `template` restandoles sus respectivas medias media (puede usar `np.mean`)\n",
    "1. Obtenga la correlación cruzada entre las señales usando `correlate2d`. Estudie el rango de valore que toma la correlación cruzada\n",
    "1. En base al resultado anterior construya y muestre una máscara binaria que sea 1 donde hay una moneda y 0 donde no hay una moneda revele sólo la posición del template en la imagen. Puede usar el operador `>` con un valor umbral adecuadamente seleccionado. \n",
    "1. Encuentre el valor máximo de `s_noise`  con el cual es posible detectar el template usando el umbral seleccionado anteriormente"
   ]
  },
  {
   "cell_type": "code",
   "execution_count": null,
   "metadata": {},
   "outputs": [],
   "source": []
  }
 ],
 "metadata": {
  "kernelspec": {
   "display_name": "Python 3",
   "language": "python",
   "name": "python3"
  },
  "language_info": {
   "codemirror_mode": {
    "name": "ipython",
    "version": 3
   },
   "file_extension": ".py",
   "mimetype": "text/x-python",
   "name": "python",
   "nbconvert_exporter": "python",
   "pygments_lexer": "ipython3",
   "version": "3.7.10"
  }
 },
 "nbformat": 4,
 "nbformat_minor": 4
}
