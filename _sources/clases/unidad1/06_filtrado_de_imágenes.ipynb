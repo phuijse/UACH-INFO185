{
 "cells": [
  {
   "cell_type": "code",
   "execution_count": null,
   "metadata": {},
   "outputs": [],
   "source": [
    "%matplotlib inline\n",
    "import numpy as np\n",
    "import matplotlib.pyplot as plt\n",
    "from matplotlib import rcParams\n",
    "rcParams['figure.dpi'] = 120\n",
    "from scipy import fftpack\n",
    "\n",
    "def color2bw(img):\n",
    "    return np.dot(img, [0.299, 0.587, 0.114])"
   ]
  },
  {
   "cell_type": "markdown",
   "metadata": {},
   "source": [
    "# Filtrado de imágenes\n",
    "\n",
    "En esta lección veremos:\n",
    "\n",
    "- Filtrado con máscaras en frecuencia\n",
    "- Filtrado con convolución 2D\n"
   ]
  },
  {
   "cell_type": "markdown",
   "metadata": {},
   "source": [
    "## Filtro en frecuencia\n",
    "\n",
    "Recordemos que\n",
    "\n",
    "> Una multiplicación en el espacio de frecuencia equivale a una convolución en el espacio original\n",
    "\n",
    "Podemos usar esta propiedad para hacer filtrado\n",
    "\n",
    "- Calculamos el espectro de la imagen usando la DFT\n",
    "- Multiplicamos el espectro por una ventana\n",
    "- Aplicamos DFT inversa para obtener la imagen filtrada\n",
    "\n",
    "\n",
    "\n",
    "**Ejemplo:** Filtro pasa-bajos\n",
    "\n",
    "Sea una imagen de ejemplo.\n",
    "\n",
    "Usamos `scipy.fftpack.fft2` para calcular su transformada de Fourier"
   ]
  },
  {
   "cell_type": "code",
   "execution_count": null,
   "metadata": {},
   "outputs": [],
   "source": [
    "img_example = color2bw(plt.imread(\"../images/InsInformatica.jpg\"))  \n",
    "S_img = fftpack.fft2(img_example)\n",
    "\n",
    "fig, ax = plt.subplots(1, 2, figsize=(8, 3.5), tight_layout=True);\n",
    "ax[0].imshow(img_example, cmap=plt.cm.Greys_r)\n",
    "ax[0].set_title('Imagen de ejemplo')\n",
    "ax[1].imshow(fftpack.fftshift(np.log(1+np.abs(S_img))), cmap=plt.cm.Spectral_r)\n",
    "ax[1].set_title('Espectro de amplitud');"
   ]
  },
  {
   "cell_type": "markdown",
   "metadata": {},
   "source": [
    "Multipliquemos el espectro por una ventana rectangular que multiplique por cero las frecuencias altas\n",
    "\n",
    "Eliminar las frecuencias altas suaviza la imagen. Esto puede usarse para eliminar ruido a costa de perder detalles\n",
    "\n",
    "Luego tomamos la transformada de Fourier inversa del espectro multiplicado\n",
    "\n",
    "Observe como cambia el resultado a medida que disminuimos progresivamente el tamaño de la ventana (`sigma`)"
   ]
  },
  {
   "cell_type": "code",
   "execution_count": null,
   "metadata": {},
   "outputs": [],
   "source": [
    "def create_mask(img_shape, sigma):\n",
    "    cy, cx = img_shape[0]/2, img_shape[1]/2\n",
    "    x = np.arange(0, img_shape[1]); \n",
    "    y = np.arange(0, img_shape[0]);\n",
    "    X, Y = np.meshgrid(x, y)\n",
    "    mask = np.zeros_like(S_img, dtype=np.float32)\n",
    "    mask[int(cy-sigma):int(cy+sigma), \n",
    "         int(cx-sigma):int(cx+sigma)] = 1\n",
    "    return mask\n",
    "\n",
    "fig, ax = plt.subplots(3, 2, figsize=(8, 8), tight_layout=True, sharex=True, sharey=True);\n",
    "for i, sigma in enumerate([100, 40, 10]):\n",
    "    espectro_filtrado = fftpack.fftshift(S_img)*create_mask(img_example.shape, sigma)\n",
    "    ax[i, 0].imshow(np.log(1+np.abs(espectro_filtrado)), cmap=plt.cm.Spectral_r)\n",
    "    image_reconstruida = np.real(fftpack.ifft2(fftpack.ifftshift(espectro_filtrado)))\n",
    "    ax[i, 1].imshow(image_reconstruida, cmap=plt.cm.Greys_r)"
   ]
  },
  {
   "cell_type": "markdown",
   "metadata": {},
   "source": [
    "Para evitar artefactos causados por los bordes abruptos de la señal rectangular podemos reemplazar la misma por una ventana Gaussiana\n",
    "\n",
    "Esta operación se suele llamar \"suavizado gaussiano\""
   ]
  },
  {
   "cell_type": "code",
   "execution_count": null,
   "metadata": {},
   "outputs": [],
   "source": [
    "def create_mask(img_shape, sigma):\n",
    "    cy, cx = img_shape[0]/2, img_shape[1]/2\n",
    "    x = np.arange(0, img_shape[1]); \n",
    "    y = np.arange(0, img_shape[0]);\n",
    "    X, Y = np.meshgrid(x, y)    \n",
    "    return 1e-8 + np.exp(-(((X-cx)/sigma)**2 + ((Y-cy)/sigma)**2))\n",
    "\n",
    "fig, ax = plt.subplots(3, 2, figsize=(8, 8), tight_layout=True, sharex=True, sharey=True);\n",
    "for i, sigma in enumerate([100, 40, 10]):\n",
    "    espectro_filtrado = fftpack.fftshift(S_img)*create_mask(img_example.shape, sigma)\n",
    "    ax[i, 0].imshow(np.log(1+np.abs(espectro_filtrado)), cmap=plt.cm.Spectral_r)\n",
    "    image_reconstruida = np.real(fftpack.ifft2(fftpack.ifftshift(espectro_filtrado)))\n",
    "    ax[i, 1].imshow(image_reconstruida, cmap=plt.cm.Greys_r)"
   ]
  },
  {
   "cell_type": "markdown",
   "metadata": {},
   "source": [
    "**Ejemplo:** Filtro pasa-altos\n",
    "\n",
    "Si usamos el inverso de una ventana gaussiana entonces estaríamos multiplicando por cero las frecuencias más bajas\n",
    "\n",
    "Esto borra los colores, dejándo sólo los detalles o bordes\n",
    "\n",
    "Observe como cambia el resultado a medida que borramos más frecuencias bajas"
   ]
  },
  {
   "cell_type": "code",
   "execution_count": null,
   "metadata": {},
   "outputs": [],
   "source": [
    "def create_mask(img_shape, sigma):\n",
    "    cy, cx = img_shape[0]/2, img_shape[1]/2\n",
    "    x = np.arange(0, img_shape[1]); \n",
    "    y = np.arange(0, img_shape[0]);\n",
    "    X, Y = np.meshgrid(x, y)    \n",
    "    return 1.0  - np.exp(-(((X-cx)/sigma)**2 + ((Y-cy)/sigma)**2)) \n",
    "\n",
    "fig, ax = plt.subplots(3, 2, figsize=(8, 8), tight_layout=True, sharex=True, sharey=True);\n",
    "for i, sigma in enumerate([10, 40, 100]):\n",
    "    espectro_filtrado = fftpack.fftshift(S_img)*create_mask(img_example.shape, sigma)\n",
    "    ax[i, 0].imshow(np.log(1+np.abs(espectro_filtrado)), cmap=plt.cm.Spectral_r)\n",
    "    image_reconstruida = np.real(fftpack.ifft2(fftpack.ifftshift(espectro_filtrado)))\n",
    "    ax[i, 1].imshow(image_reconstruida, cmap=plt.cm.Greys_r)"
   ]
  },
  {
   "cell_type": "markdown",
   "metadata": {},
   "source": [
    "## Filtrado en el dominio de la imagen\n",
    "\n",
    "También podemos filtrar una imagen en su espacio original usando la convolución bidimensional\n",
    "\n",
    "El elemento que se convoluciona con la imagen se denomina filtro o kernel de convolución\n",
    "\n",
    "La siguiente animación muestra el proceso de convolución en dos dimensioens\n",
    "\n",
    "<img src=\"../images/filter2D_convolution.gif\" width=\"600\">\n"
   ]
  },
  {
   "cell_type": "markdown",
   "metadata": {},
   "source": [
    "¿Qué cree usted que hacen estos los siguientes kernels/filtros?\n",
    "\n",
    "$$\n",
    "\\begin{pmatrix}\n",
    "1 & 1 & 1 & 1 & 1 \\\\\n",
    "1 & 1 & 1 & 1 & 1 \\\\\n",
    "1 & 1 & 1 & 1 & 1 \\\\\n",
    "1 & 1 & 1 & 1 & 1 \\\\\n",
    "1 & 1 & 1 & 1 & 1 \\\\\n",
    "\\end{pmatrix} \\frac{1}{25} \n",
    "\\qquad\n",
    "\\begin{pmatrix}\n",
    "0.018 & 0.082 & 0.1353 & 0.082 & 0.018 \\\\\n",
    "0.082 & 0.3678 & 0.6065 & 0.3678 & 0.082 \\\\\n",
    "0.1353 & 0.6065 & 1 & 0.6065 & 0.1353 \\\\\n",
    "0.082 & 0.3678 & 0.6065 & 0.3678 & 0.082 \\\\\n",
    "0.018 & 0.082 & 0.1353 & 0.082 & 0.018 \\\\\n",
    "\\end{pmatrix} \\frac{1}{\\sqrt{2\\pi}}\n",
    "$$\n",
    "\n",
    "Respuesta: Ambos son filtros promediadores, es decir que reemplazan cada pixel por un promedio de sus vecinos. Estos filtros actuan como pasa-bajos ya que suavizan la imagen.\n"
   ]
  },
  {
   "cell_type": "markdown",
   "metadata": {},
   "source": [
    "Scipy ofrece dos funciones para hacer convolución\n",
    "\n",
    "- convolve2d: Convolución tradicional, es más rápido cuando la imagen y el filtro son pequeños\n",
    "- fftconvolve: Convolución multiplicando en frecuencia,  es más rápido cuando la imagen y el filtro son grandes"
   ]
  },
  {
   "cell_type": "code",
   "execution_count": null,
   "metadata": {},
   "outputs": [],
   "source": [
    "from scipy.signal import fftconvolve, convolve2d\n",
    "\n",
    "fig, ax = plt.subplots(1, 2, figsize=(8, 3.5), tight_layout=True);\n",
    "\n",
    "size = 20\n",
    "kernel = np.ones(shape=(size, size))/size**2\n",
    "img_filtered1 = fftconvolve(img_example, kernel, mode='same');\n",
    "img_filtered2 = convolve2d(img_example, kernel, mode='same');\n",
    "ax[0].set_title('fftconvolve')\n",
    "ax[0].imshow(img_filtered1, cmap=plt.cm.Greys_r)\n",
    "ax[1].set_title('convolve2d')\n",
    "ax[1].imshow(img_filtered2, cmap=plt.cm.Greys_r);"
   ]
  },
  {
   "cell_type": "markdown",
   "metadata": {},
   "source": [
    "**Ejemplo:** Detección de borde con filtro Sobel\n",
    "\n",
    "Los siguientes filtros se conocen como sobel horizontal y vertical\n",
    "\n",
    "<img src=\"../images/filtro_gradient.gif\" width=\"600\">\n",
    "\n",
    "Se utilizan para resaltar los bordes de la imagen"
   ]
  },
  {
   "cell_type": "code",
   "execution_count": null,
   "metadata": {},
   "outputs": [],
   "source": [
    "fig = plt.figure(figsize=(7, 7), tight_layout=True)\n",
    "sobelx = fftconvolve(img_example, [[-1, 0, 1], \n",
    "                                   [-2, 0, 2], \n",
    "                                   [-1, 0, 1]], mode='full')\n",
    "ax =  plt.subplot2grid((2, 2), (0, 0))\n",
    "ax.matshow(sobelx, cmap=plt.cm.Greys_r); \n",
    "ax.axis('off')\n",
    "ax.set_title('Sobel vertical')\n",
    "sobely = fftconvolve(img_example, [[-1, -2, -1], \n",
    "                                   [0, 0, 0], \n",
    "                                   [1, 2, 1]], mode='full')\n",
    "ax = plt.subplot2grid((2, 2), (0, 1))\n",
    "ax.matshow(sobely, cmap=plt.cm.Greys_r)\n",
    "ax.axis('off')\n",
    "ax.set_title('Sobel horisontal')\n",
    "ax = plt.subplot2grid((2, 2), (1, 0), colspan=2)\n",
    "ax.matshow(np.sqrt(sobely**2 + sobelx**2)[3:-3,3:-3], cmap=plt.cm.Greys_r)\n",
    "ax.axis('off')\n",
    "ax.set_title('Combinación');"
   ]
  },
  {
   "cell_type": "markdown",
   "metadata": {},
   "source": [
    "## Ruido en imágenes\n",
    "\n",
    "Existen distintos tipos de ruido que pueden afectar una imagen\n",
    "\n",
    "- Ruido térmico, ruido de lectura, ruido eléctronico: Se modelan tipicamente como **ruido blanco Gaussiano**\n",
    "- Ruido sal y pimienta o **Ruido impulsivo**: Se traduce en píxeles que se saturan en sus valores máximos/mínimos\n",
    "- Interferencia periódica: Puede modelarse como una sinusoide\n",
    "\n",
    "A continuación mostraremos como se ven estos ruidos para aprender a reconocerlos\n",
    "\n",
    "También veremos como disminuir sus efectos usando filtros\n",
    "\n",
    "Considere la siguiente imagen de ejemplo:"
   ]
  },
  {
   "cell_type": "code",
   "execution_count": null,
   "metadata": {},
   "outputs": [],
   "source": [
    "from ipywidgets import interact, FloatSlider, IntSlider, FloatLogSlider\n",
    "\n",
    "img_example = color2bw(plt.imread('../images/lobo.jpg')) \n",
    "fig, ax = plt.subplots(figsize=(6, 3.5), tight_layout=True)\n",
    "ax.imshow(img_example, cmap=plt.cm.Greys_r)\n",
    "ax.axis('off');"
   ]
  },
  {
   "cell_type": "markdown",
   "metadata": {},
   "source": [
    "Así se vería si la corrompemos añadiendo ruido blanco gaussiano con una desviación estándar de $20$"
   ]
  },
  {
   "cell_type": "code",
   "execution_count": null,
   "metadata": {},
   "outputs": [],
   "source": [
    "fig, ax = plt.subplots(figsize=(6, 3.5), tight_layout=True)\n",
    "\n",
    "sigma = 20\n",
    "\n",
    "noise = np.random.randn(img_example.shape[0], img_example.shape[1])\n",
    "img_corrupted = img_example + sigma*noise\n",
    "ax.matshow(img_corrupted, cmap=plt.cm.Greys_r)\n",
    "ax.axis('off');"
   ]
  },
  {
   "cell_type": "markdown",
   "metadata": {},
   "source": [
    "El ruido blanco se presenta en todo el espectro\n",
    "\n",
    "Por ende no es posible eliminarlo completamente pero podemos disminuir su efecto usando un filtro pasabajo\n",
    "\n",
    "Para llegar a un buen resultado se debe calibrar el tamaño del filtro. En este caso particular un filtro rectangular de tamaño $5$ entrega un resultado aceptable"
   ]
  },
  {
   "cell_type": "code",
   "execution_count": null,
   "metadata": {},
   "outputs": [],
   "source": [
    "fig, ax = plt.subplots(figsize=(6, 3.5), tight_layout=True)\n",
    "\n",
    "size = 5\n",
    "kernel = np.ones(shape=(size, size))/size**2\n",
    "img_filtered = fftconvolve(img_corrupted, kernel, mode='same')\n",
    "ax.matshow(img_filtered, cmap=plt.cm.Greys_r)\n",
    "ax.axis('off');"
   ]
  },
  {
   "cell_type": "markdown",
   "metadata": {},
   "source": [
    "**Ejemplo:** Eliminar ruido impulsivo\n",
    "\n",
    "El ruido impulso o ruido sal y pimienta aparece como pixeles saturados en la imagen\n",
    "\n",
    "Un filtro tipicamente usando para disminuir este ruido es el filtro mediana. Si se aplica la mediana en una vecindad los valores extremos serán ignorados"
   ]
  },
  {
   "cell_type": "code",
   "execution_count": null,
   "metadata": {},
   "outputs": [],
   "source": [
    "from scipy.signal import medfilt\n",
    "\n",
    "noise = np.random.rand(*img_example.shape)\n",
    "img_corrupted  = np.where(noise < 0.1, 255, img_example)\n",
    "img_filtered = medfilt(img_corrupted, 5)\n",
    "\n",
    "fig, ax = plt.subplots(1, 2, figsize=(6, 3.5), tight_layout=True, sharex=True, sharey=True)\n",
    "ax[0].matshow(img_corrupted[:, 100:600], cmap=plt.cm.Greys_r)     \n",
    "ax[0].set_title('Imagen con ruido impulsivo')\n",
    "ax[0].axis('off')\n",
    "ax[1].matshow(img_filtered[:, 100:600], cmap=plt.cm.Greys_r)\n",
    "ax[1].set_title('Limpieza con filtro mediana')\n",
    "ax[1].axis('off');"
   ]
  },
  {
   "cell_type": "markdown",
   "metadata": {},
   "source": [
    "**Ejemplo:** Eliminar ruido periódico\n",
    "\n",
    "Es un ruido que tiene frecuencia y dirección\n",
    "\n",
    "En este ejemplo el ruido tiene una dirección vertical"
   ]
  },
  {
   "cell_type": "code",
   "execution_count": null,
   "metadata": {},
   "outputs": [],
   "source": [
    "fig, ax = plt.subplots(figsize=(6, 3.5), tight_layout=True)\n",
    "X, Y = np.meshgrid(np.arange(0, img_example.shape[1]), np.arange(0, img_example.shape[0]))\n",
    "\n",
    "img_corrupted = img_example + 200*np.cos(2.0*np.pi*40*Y/img_example.shape[0])\n",
    "ax.matshow(img_corrupted, cmap=plt.cm.Greys_r) \n",
    "ax.axis('off');"
   ]
  },
  {
   "cell_type": "markdown",
   "metadata": {},
   "source": [
    "El espectro de la imagen anterior (enventanada) es:"
   ]
  },
  {
   "cell_type": "code",
   "execution_count": null,
   "metadata": {},
   "outputs": [],
   "source": [
    "win = np.dot(np.hanning(img_corrupted.shape[0]).reshape(-1, 1), \n",
    "             np.hanning(img_corrupted.shape[1]).reshape(1, -1))\n",
    "\n",
    "fig, ax = plt.subplots(figsize=(6, 3.5), tight_layout=True)\n",
    "S_img = fftpack.fftshift(fftpack.fft2(img_corrupted*win))   \n",
    "ax.matshow(np.log(np.absolute(S_img)+1), cmap=plt.cm.Spectral_r) \n",
    "ax.axis('off');"
   ]
  },
  {
   "cell_type": "markdown",
   "metadata": {},
   "source": [
    "Note los dos puntos oscuros que aparecen en la vertical a una misma distancia del centro\n",
    "\n",
    "Recordemos que estos impulsos en frecuencia corresponen a una sinusoide en la imagen\n",
    "\n",
    "El ruido periodico se traduce como un punto en el espectro\n",
    "\n",
    "```{admonition} Idea\n",
    ":class: tip\n",
    "Podríamos intentar \"borrar\" los componentes frecuenciales asociados al ruido usando una mascara multiplicativa correctamente posicionada\n",
    "```"
   ]
  },
  {
   "cell_type": "code",
   "execution_count": null,
   "metadata": {},
   "outputs": [],
   "source": [
    "X, Y = np.meshgrid(np.arange(0, img_example.shape[1]), \n",
    "                   np.arange(0, img_example.shape[0]))\n",
    "freq_x = fftpack.fftshift(fftpack.fftfreq(n=img_example.shape[1]))\n",
    "freq_y = fftpack.fftshift(fftpack.fftfreq(n=img_example.shape[0]))\n",
    "\n",
    "def create_mask(dims, frequency, size=10):\n",
    "    freq_int = int(frequency*dims[0])\n",
    "    mask = np.ones(shape=(dims[0], dims[1]))\n",
    "    mask[dims[0]//2-size-freq_int:dims[0]//2+size-freq_int, \n",
    "         dims[1]//2-size:dims[1]//2+size] = 0 \n",
    "    mask[dims[0]//2-size+freq_int:dims[0]//2+size+freq_int, \n",
    "          dims[1]//2-size:dims[1]//2+size] = 0\n",
    "    return mask\n",
    "\n",
    "\n",
    "S_img = fftpack.fftshift(fftpack.fft2(img_corrupted))\n",
    "espectro_filtrado = S_img*create_mask(S_img.shape, 0.06)   \n",
    "# Reconstrucción\n",
    "img_reconstructed = np.real(fftpack.ifft2(fftpack.ifftshift(espectro_filtrado)))\n",
    "\n",
    "fig, ax = plt.subplots(1, 3, figsize=(8, 6), tight_layout=True)\n",
    "ax[0].matshow(img_corrupted[:, 200:500], cmap=plt.cm.Greys_r);\n",
    "ax[1].imshow(np.log(1+np.abs(espectro_filtrado))[100:-100, 400:-400], cmap=plt.cm.Spectral_r,\n",
    "             extent=(freq_x[400], freq_x[-400], freq_y[100], freq_y[-100]))\n",
    "ax[2].matshow(img_reconstructed[:, 200:500], cmap=plt.cm.Greys_r);"
   ]
  },
  {
   "cell_type": "markdown",
   "metadata": {},
   "source": [
    "Algunas causas de degradación de calidad en imágenes:\n",
    "\n",
    "- Manipulación: Desenfoque \n",
    "- Ambiente: Reflejos y dispersión de luz\n",
    "- Dispositivo: Ruido del sensor y circuitos\n",
    "- Ruido de cuantización"
   ]
  },
  {
   "cell_type": "code",
   "execution_count": null,
   "metadata": {},
   "outputs": [],
   "source": []
  }
 ],
 "metadata": {
  "kernelspec": {
   "display_name": "Python 3",
   "language": "python",
   "name": "python3"
  },
  "language_info": {
   "codemirror_mode": {
    "name": "ipython",
    "version": 3
   },
   "file_extension": ".py",
   "mimetype": "text/x-python",
   "name": "python",
   "nbconvert_exporter": "python",
   "pygments_lexer": "ipython3",
   "version": "3.7.10"
  }
 },
 "nbformat": 4,
 "nbformat_minor": 4
}
