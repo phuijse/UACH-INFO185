{
 "cells": [
  {
   "cell_type": "code",
   "execution_count": null,
   "metadata": {
    "slideshow": {
     "slide_type": "skip"
    }
   },
   "outputs": [],
   "source": [
    "%matplotlib inline\n",
    "import numpy as np\n",
    "from matplotlib import rcParams\n",
    "rcParams['figure.dpi'] = 120\n",
    "import matplotlib.pyplot as plt\n",
    "from scipy import fftpack\n",
    "from IPython.display import YouTubeVideo\n",
    "from functools import partial\n",
    "YTVideo_formato = partial(YouTubeVideo, width=640, height=400, rel=0, modestbranding=1)\n",
    "\n",
    "def color2bw(img):\n",
    "    return np.dot(img, [0.299, 0.587, 0.114])"
   ]
  },
  {
   "cell_type": "markdown",
   "metadata": {
    "slideshow": {
     "slide_type": "slide"
    }
   },
   "source": [
    "# Análisis de imágenes en frecuencia\n",
    "\n",
    "\n",
    "En esta lección veremos:\n",
    "\n",
    "- Transformada de Fourier bidimensional\n",
    "- Espectro de imágenes sintéticas y naturales\n"
   ]
  },
  {
   "cell_type": "markdown",
   "metadata": {
    "slideshow": {
     "slide_type": "slide"
    }
   },
   "source": [
    "## Transformada de Fourier bidimensional\n",
    "\n",
    "La DFT se puede aplicar a funciones multi-dimensionales\n",
    "\n",
    "En el caso discreto de una señal bidimensional $g[n_1, n_2]$ con índices $n_1 \\in [0, N_1-1]$ y $n_2 \\in [0, N_2-1]$ tenemos\n",
    "\n",
    "$$\n",
    "G[k_1, k_2] = \\sum_{n_1=0}^{N_1-1} \\sum_{n_2=0}^{N_2-1} g[n_1, n_2] \\exp \\left ( -j2\\pi  \\left[\\frac{n_1 k_1}{N_1} + \\frac{n_2 k_2}{N_2} \\right] \\right)\n",
    "$$\n",
    "y su inversa\n",
    "\n",
    "$$\n",
    "g[n_1, n_2] = \\frac{1}{N_1 N_2}\\sum_{k_1=0}^{N_1-1} \\sum_{k_2=0}^{N_2-1} G[k_1, k_2] \\exp \\left ( j2\\pi  \\left[\\frac{n_1 k_1}{N_1} + \\frac{n_2 k_2}{N_2} \\right] \\right)\n",
    "$$\n",
    "\n",
    "Notemos que\n",
    "\n",
    "$$\n",
    "\\begin{align}\n",
    "G[k_1, k_2] &= \\sum_{n_1=0}^{N_1-1} \\left(\\sum_{n_2=0}^{N_2-1} g[n_1, n_2] \\exp \\left (-j2\\pi \\frac{n_2 k_2}{N_2}\\right) \\right) \\exp \\left (-j2\\pi \\frac{n_1 k_1}{N_1}\\right) \\\\\n",
    "&= \\sum_{n_1=0}^{N_1-1} \\hat g_{n_2}[n_1] \\exp \\left (-j2\\pi \\frac{n_1 k_1}{N_1}\\right),\n",
    "\\end{align}\n",
    "$$\n",
    "\n",
    "Es decir que la DFT 2D se puede calcular usando repetidas veces la DFT de una dimensión."
   ]
  },
  {
   "cell_type": "markdown",
   "metadata": {
    "slideshow": {
     "slide_type": "slide"
    }
   },
   "source": [
    "**Ejemplo:** Visualización de la base de Fourier bidimensional\n",
    "\n",
    "A continuación se muestra la base de Fourier (parte real), son cosenos en dos dimensiones con distintas orientaciones\n",
    "\n",
    "- La frecuencia cero se ubica en la esquina superior izquierda\n",
    "- La frecuencia crece de izquierda a derecha y de arriba para abajo\n",
    "\n",
    "Cuando aplicamos la transformada de Fourier 2D a una imagen estamos separando la imagen en base a estas \"texturas\" sinusoidales"
   ]
  },
  {
   "cell_type": "code",
   "execution_count": null,
   "metadata": {
    "slideshow": {
     "slide_type": "fragment"
    }
   },
   "outputs": [],
   "source": [
    "x = np.arange(0, 32, step=1)\n",
    "X, Y = np.meshgrid(x, x)\n",
    "fig, ax = plt.subplots(9, 9, figsize=(6, 6), tight_layout=True)\n",
    "\n",
    "for n in range(9):\n",
    "    for m in range(9):\n",
    "        ax[n, m].matshow(np.cos(2.0*np.pi*X*m/len(x) + 2.0*np.pi*Y*n/len(x)), \n",
    "                         cmap=plt.cm.RdBu_r, vmin=-1, vmax=1)\n",
    "        ax[n, m].axis('off')\n",
    "    "
   ]
  },
  {
   "cell_type": "markdown",
   "metadata": {
    "slideshow": {
     "slide_type": "slide"
    }
   },
   "source": [
    "## Espectro de una imagen \n",
    "\n",
    "Podemos usar la transformada de Fourier 2D para obtener el espectro de amplitud de una imagen\n",
    "\n",
    "Los ejes de la DFT son las frecuencias espaciales"
   ]
  },
  {
   "cell_type": "code",
   "execution_count": null,
   "metadata": {
    "slideshow": {
     "slide_type": "fragment"
    }
   },
   "outputs": [],
   "source": [
    "img_color = plt.imread('../images/valdivia.jpg')\n",
    "img_bw = color2bw(img_color)[:, 300:]\n",
    "\n",
    "fig, ax = plt.subplots(1, 2, figsize=(6, 3), tight_layout=True)\n",
    "ax[0].imshow(img_bw, cmap=plt.cm.Greys_r) \n",
    "ax[0].set_title(\"Imagen\")\n",
    "S = fftpack.fft2(img_bw)\n",
    "ax[1].imshow(fftpack.fftshift(np.abs(S)), cmap=plt.cm.Spectral_r,\n",
    "             extent=[-img_bw.shape[1]//2, img_bw.shape[1]//2, \n",
    "                     -img_bw.shape[0]//2, img_bw.shape[0]//2])\n",
    "ax[1].set_title(\"Espectro de amplitud\");"
   ]
  },
  {
   "cell_type": "markdown",
   "metadata": {
    "slideshow": {
     "slide_type": "fragment"
    }
   },
   "source": [
    "```{note}\n",
    "La energía está muy concentrada en el componente central. Esto es común en imágenes naturales\n",
    "```\n",
    "\n",
    "Para visualizar mejor el espectro de una imagen natural se recomienda usar\n",
    "\n",
    "$$\n",
    "\\log(|\\text{fft2}(I)|+1)\n",
    "$$\n",
    "\n",
    "de esta forma el componente central no es tan dominante"
   ]
  },
  {
   "cell_type": "code",
   "execution_count": null,
   "metadata": {
    "slideshow": {
     "slide_type": "fragment"
    }
   },
   "outputs": [],
   "source": [
    "fig, ax = plt.subplots(1, 2, figsize=(6, 3), tight_layout=True)\n",
    "ax[0].imshow(img_bw, cmap=plt.cm.Greys_r) \n",
    "ax[0].set_title(\"Imagen\")\n",
    "S = fftpack.fft2(img_bw)\n",
    "ax[1].imshow(fftpack.fftshift(np.log(1+np.abs(S))), cmap=plt.cm.Spectral_r,\n",
    "             extent=[-img_bw.shape[1]//2, img_bw.shape[1]//2, \n",
    "                     -img_bw.shape[0]//2, img_bw.shape[0]//2])\n",
    "ax[1].set_title(\"Espectro de amplitud\");"
   ]
  },
  {
   "cell_type": "markdown",
   "metadata": {},
   "source": [
    "Ahora podemos apreciar otras estructuras en el espectro, pero\n",
    "\n",
    "> ¿A qué corresponden? \n",
    "\n",
    "Para entrenarnos en la interpretación del espectro conviene estudiar espectros de imágenes sintéticas"
   ]
  },
  {
   "cell_type": "markdown",
   "metadata": {
    "slideshow": {
     "slide_type": "slide"
    }
   },
   "source": [
    "## Espectro de una imagen sintética\n",
    "\n",
    "\n",
    "**Ejemplo:** Impulsos en frecuencia\n",
    "\n",
    "Dos impulsos en el espectro corresponde a una sinusoide en el espacio original y viceversa\n",
    "\n",
    "La posición de los impulsos está asociada a la frecuencia de la sinusoide"
   ]
  },
  {
   "cell_type": "code",
   "execution_count": null,
   "metadata": {},
   "outputs": [],
   "source": [
    "YTVideo_formato('JkYpoMWGbN4')"
   ]
  },
  {
   "cell_type": "markdown",
   "metadata": {
    "slideshow": {
     "slide_type": "slide"
    }
   },
   "source": [
    "**Ejemplo:** Espectro de una Linea\n",
    "\n",
    "Una línea en la imagen es una línea en el espectro (con otra orientación) "
   ]
  },
  {
   "cell_type": "code",
   "execution_count": null,
   "metadata": {},
   "outputs": [],
   "source": [
    "YTVideo_formato('vwey-8_EADg')"
   ]
  },
  {
   "cell_type": "markdown",
   "metadata": {},
   "source": [
    "**Pregunta:** ¿Cómo se explica esto?\n",
    "\n",
    " Consideremos primero el caso donde la rotación es 40 pixeles (linea vertical)\n"
   ]
  },
  {
   "cell_type": "code",
   "execution_count": null,
   "metadata": {},
   "outputs": [],
   "source": [
    "fig, ax = plt.subplots(1, 2, figsize=(8, 4), tight_layout=True); \n",
    "\n",
    "def draw_line_spectrum(ax, angle):\n",
    "    img = np.zeros(shape=(80, 80));     \n",
    "    for i in range(80):\n",
    "        img[i, int(i - 2*angle*i/80 + angle)] = 1 \n",
    "\n",
    "    ax[1].set_title(\"Espectro de magnitud\");  \n",
    "    ax[0].set_title(\"Imagen\")\n",
    "    S_img = np.abs(fftpack.fft2(img))\n",
    "    im = ax[1].imshow(fftpack.fftshift(S_img), cmap=plt.cm.Greys_r, \n",
    "                      extent=[-40, 40, 40, -40])\n",
    "    im = ax[0].imshow(img, cmap=plt.cm.Greys_r);\n",
    "    \n",
    "draw_line_spectrum(ax, 40)"
   ]
  },
  {
   "cell_type": "markdown",
   "metadata": {
    "slideshow": {
     "slide_type": "fragment"
    }
   },
   "source": [
    "Notemos que en este caso la componente vertical y horizontal pueden independizarse como muestra el sencillo ejemplo a continuación"
   ]
  },
  {
   "cell_type": "code",
   "execution_count": null,
   "metadata": {
    "slideshow": {
     "slide_type": "fragment"
    }
   },
   "outputs": [],
   "source": [
    "A = np.array([[0., 0., 1., 0., 0.]])\n",
    "B = np.array([[1., 1., 1., 1., 1.]])\n",
    "A*B.T"
   ]
  },
  {
   "cell_type": "markdown",
   "metadata": {
    "slideshow": {
     "slide_type": "fragment"
    }
   },
   "source": [
    "Esto se conoce como **señal separable**\n",
    "\n",
    "**Propiedad:**  \n",
    "\n",
    "> La DFT 2D de una señal separable equivale a la multiplicación de las dos DFT 1D\n",
    "\n",
    "Demostración: Una señal es sepable si\n",
    "\n",
    "$$\n",
    "g[n_1, n_2] = g_1[n_1] g_2[n_2],\n",
    "$$\n",
    "\n",
    "aplicando esto en la DFT tenemos\n",
    "\n",
    "$$\n",
    "\\begin{align}\n",
    "G[k_1, k_2] &= \\sum_{n_1=0}^{N_1-1} \\sum_{n_2=0}^{N_2-1} g_1[n_1] g_2[n_2] \\exp \\left ( -j2\\pi  \\left[\\frac{n_1 k_1}{N_1} + \\frac{n_2 k_2}{N_2} \\right] \\right) \\nonumber \\\\\n",
    "& = \\sum_{n_1=0}^{N_1-1} g_1[n_1] \\exp \\left ( -j2\\pi \\frac{n_1 k_1}{N_1} \\right)  \\sum_{n_2=0}^{N_2-1} g_2[n_2] \\exp \\left ( -j2\\pi\\frac{n_2 k_2}{N_2}  \\right) \\nonumber \\\\\n",
    "\\end{align}\n",
    "$$\n",
    "\n",
    "es decir que se obtiene la multiplicación de cada DFT.\n",
    "\n",
    "Usemos esta propiedad en el ejemplo anterior."
   ]
  },
  {
   "cell_type": "markdown",
   "metadata": {},
   "source": [
    "La primera señal es un impulso en el origen\n",
    "\n",
    "Su transformada de Fourier es una señal constante"
   ]
  },
  {
   "cell_type": "code",
   "execution_count": null,
   "metadata": {},
   "outputs": [],
   "source": [
    "SA = fftpack.fftshift(np.abs(fftpack.fft(A)))\n",
    "display(A, SA)"
   ]
  },
  {
   "cell_type": "markdown",
   "metadata": {},
   "source": [
    "La segunda señal es una constante\n",
    "\n",
    "Su transformada de Fourier es un impulso en el origen\n",
    "\n",
    "(la constante y el impulso en el origen son un par de Fourier)"
   ]
  },
  {
   "cell_type": "code",
   "execution_count": null,
   "metadata": {},
   "outputs": [],
   "source": [
    "SB = fftpack.fftshift(np.abs(fftpack.fft(B)))\n",
    "display(B, SB)"
   ]
  },
  {
   "cell_type": "markdown",
   "metadata": {},
   "source": [
    "**Resultado:** La multiplicación de ambas es una linea rotada en 90 grados con respecto a la original"
   ]
  },
  {
   "cell_type": "code",
   "execution_count": null,
   "metadata": {},
   "outputs": [],
   "source": [
    "SA*SB.T"
   ]
  },
  {
   "cell_type": "markdown",
   "metadata": {},
   "source": [
    "**Pregunta:**\n",
    "\n",
    "¿Por qué pareciera repetirse la linea en el espectro cuando la rotación es distinta de 0 pixeles (0 grados), 40 pixeles (90 grados) o 80 pixeles (180 grados)?"
   ]
  },
  {
   "cell_type": "code",
   "execution_count": null,
   "metadata": {},
   "outputs": [],
   "source": [
    "fig, ax = plt.subplots(1, 2, figsize=(8, 4), tight_layout=True);    \n",
    "draw_line_spectrum(ax, 50)"
   ]
  },
  {
   "cell_type": "markdown",
   "metadata": {
    "slideshow": {
     "slide_type": "fragment"
    }
   },
   "source": [
    "Este efecto o artefacto es obedece a la siguiente propiedad de la DFT\n",
    "\n",
    "**Propiedad:** \n",
    "\n",
    ">La DFT es periodica\n",
    "\n",
    "En este caso el artefacto que observamos se debe a que en ciertos ángulos los bordes no calzan, tal como muestra la siguiente figura"
   ]
  },
  {
   "cell_type": "code",
   "execution_count": null,
   "metadata": {},
   "outputs": [],
   "source": [
    "fig, ax = plt.subplots(figsize=(8, 4), tight_layout=True); \n",
    "\n",
    "img = np.zeros(shape=(80, 80));     \n",
    "for i in range(80):\n",
    "    img[i, int(i - 2*50*i/80 + 50)] = 1 \n",
    "\n",
    "S_img = fftpack.fftshift(np.abs(fftpack.fft2(img)))\n",
    "ax.imshow(np.tile(S_img, (3,3)), plt.cm.Greys_r)\n",
    "ax.axhline(80, c='r', ls='--')\n",
    "ax.axhline(160, c='r', ls='--')\n",
    "ax.axvline(80, c='r', ls='--')\n",
    "ax.axvline(160, c='r', ls='--')"
   ]
  },
  {
   "cell_type": "markdown",
   "metadata": {},
   "source": [
    "Más adelante veremos como disminuir la influencia de este artefacto usando enventanado"
   ]
  },
  {
   "cell_type": "markdown",
   "metadata": {
    "slideshow": {
     "slide_type": "slide"
    }
   },
   "source": [
    "**Ejemplo:** Espectro de un rectangulo\n",
    "\n",
    "Un rectangulo en la imagen es un sinc en el espectro (y viceverza)\n",
    "\n",
    "Notemos como mientras más ancho es el rectangulo más angosto es el sinc (y viceversa)\n",
    "\n",
    "Demostración para una dimensión: https://www.thefouriertransform.com/pairs/box.php"
   ]
  },
  {
   "cell_type": "code",
   "execution_count": null,
   "metadata": {
    "slideshow": {
     "slide_type": "fragment"
    }
   },
   "outputs": [],
   "source": [
    "YTVideo_formato('4ctVzvU89lw')"
   ]
  },
  {
   "cell_type": "markdown",
   "metadata": {
    "slideshow": {
     "slide_type": "slide"
    }
   },
   "source": [
    "**Ejemplo:** Espectro de una Gaussiana\n",
    "\n",
    "Una Gaussiana en el espectro es una Gaussiana en el espacio de la imagen\n",
    "\n",
    "Sin embargo el ancho de la gaussiana en el espectro es inversamente proporcional a la del espacio de la imagen\n",
    "\n",
    "Demostración para una dimensión: https://www.thefouriertransform.com/pairs/gaussian.php"
   ]
  },
  {
   "cell_type": "code",
   "execution_count": null,
   "metadata": {
    "slideshow": {
     "slide_type": "fragment"
    }
   },
   "outputs": [],
   "source": [
    "YTVideo_formato('2Sukn_-4Wss')"
   ]
  },
  {
   "cell_type": "markdown",
   "metadata": {
    "slideshow": {
     "slide_type": "slide"
    }
   },
   "source": [
    "**Ejemplo:** Espectro de ruido blanco\n",
    "\n",
    "El espectro de una imagen de ruido blanco es también ruido blanco\n",
    "\n",
    "El adjetivo \"blanco\" se refiere a que es un ruido sin color, es decir que aparece de igual forma en todas las frecuencias de la señal\n",
    "\n",
    "El video a continuación muestre imágenes de ruido blanco gaussiano generado con distitnas semillas y sus correspondientes espectros de magnitud"
   ]
  },
  {
   "cell_type": "code",
   "execution_count": null,
   "metadata": {
    "slideshow": {
     "slide_type": "fragment"
    }
   },
   "outputs": [],
   "source": [
    "YTVideo_formato(\"mUTdCJzxLkc\")"
   ]
  },
  {
   "cell_type": "markdown",
   "metadata": {
    "slideshow": {
     "slide_type": "slide"
    }
   },
   "source": [
    "## Espectro de una imagen natural\n",
    "\n",
    "Ahora que hemos aprendido a interpretar el los espectros, analizemos una imagen natural"
   ]
  },
  {
   "cell_type": "code",
   "execution_count": null,
   "metadata": {
    "slideshow": {
     "slide_type": "fragment"
    }
   },
   "outputs": [],
   "source": [
    "img_doge = color2bw(plt.imread('../images/doge.jpg'))\n",
    "fig, ax = plt.subplots(1, 2, figsize=(8, 4), tight_layout=True)\n",
    "\n",
    "im = ax[0].imshow(img_doge, cmap=plt.cm.Greys_r)\n",
    "S_img = fftpack.fft2(img_doge)\n",
    "im = ax[1].imshow(fftpack.fftshift(np.log(np.abs(S_img)+1)), cmap=plt.cm.Spectral_r)"
   ]
  },
  {
   "cell_type": "markdown",
   "metadata": {
    "slideshow": {
     "slide_type": "fragment"
    }
   },
   "source": [
    "```{note}\n",
    "Las fuerte componentes horizontal y vertical son en realidad un artefacto de borde \n",
    "```"
   ]
  },
  {
   "cell_type": "markdown",
   "metadata": {},
   "source": [
    "Puedes disminuir este efecto usando **enventanado**\n",
    "\n",
    "Esto consiste en suavizar los bordes de la imagen mediante la multiplicación por una función de ventana\n",
    "\n",
    "En este ejemplo se usa una ventana de Hanning"
   ]
  },
  {
   "cell_type": "code",
   "execution_count": null,
   "metadata": {
    "slideshow": {
     "slide_type": "fragment"
    }
   },
   "outputs": [],
   "source": [
    "#win = np.hanning(img.shape[0]).reshape(-1, 1)\n",
    "win = np.dot(np.hanning(img_doge.shape[0]).reshape(-1, 1), \n",
    "             np.hanning(img_doge.shape[1]).reshape(1, -1))\n",
    "\n",
    "fig, ax = plt.subplots(1, 2, figsize=(8, 4), tight_layout=True)\n",
    "im = ax[0].imshow(img_doge*win, cmap=plt.cm.Greys_r)\n",
    "S_img = fftpack.fft2(img_doge*win)\n",
    "im = ax[1].imshow(fftpack.fftshift(np.log(np.abs(S_img)+1)), cmap=plt.cm.Spectral_r)"
   ]
  },
  {
   "cell_type": "markdown",
   "metadata": {
    "slideshow": {
     "slide_type": "slide"
    }
   },
   "source": [
    "## Espectro de magnitud y de fase\n",
    "\n",
    "La DFT en dos dimensiones $G[k_1, k_2]$ es un número complejo y como tal puede escribirse en coordenadas polares como\n",
    "\n",
    "$$\n",
    "G[k_1, k_2] = M[k_1, k_2] e^{j \\Phi[k_1, k_2]}\n",
    "$$\n",
    "\n",
    "donde $j$ es el número imaginario. \n",
    "\n",
    "Hasta ahora solo hemos estudiando el valor absoluto $M = | G |$, esto es lo que se conoce como **espectro de magnitud**\n",
    "\n",
    ">  La **magnitud espectral** guarda información de la amplitud de los componentes\n",
    "\n",
    "Ahora estudiaremos la influencia que tiene $\\Phi[k_1, k_2]$, es decir el **espectro de fase** o ángulo \n",
    "\n",
    "> La **fase espectral** guarda información del desfase (dirección) de los componentes\n",
    "\n",
    "Consideremos nuevamente nuestra imagen de ejemplo"
   ]
  },
  {
   "cell_type": "code",
   "execution_count": null,
   "metadata": {
    "slideshow": {
     "slide_type": "fragment"
    }
   },
   "outputs": [],
   "source": [
    "plt.figure(figsize=(6, 4), tight_layout=True)\n",
    "plt.imshow(img_doge, cmap=plt.cm.Greys_r);"
   ]
  },
  {
   "cell_type": "markdown",
   "metadata": {},
   "source": [
    "¿Cómo se ven los espectros de magnitud y fase de esta imagen?"
   ]
  },
  {
   "cell_type": "code",
   "execution_count": null,
   "metadata": {
    "slideshow": {
     "slide_type": "fragment"
    }
   },
   "outputs": [],
   "source": [
    "fig, ax = plt.subplots(1, 2, figsize=(8, 4), tight_layout=True)\n",
    "S_img = fftpack.fft2(img_doge*win)\n",
    "im = ax[0].imshow(fftpack.fftshift(np.log(1.+np.abs(S_img))), cmap=plt.cm.Spectral_r)\n",
    "ax[0].set_title('Espectro de magnitud')\n",
    "fig.colorbar(im, ax=ax[0], orientation='horizontal')\n",
    "ax[1].set_title('Espectro de Fase')\n",
    "im = ax[1].imshow(fftpack.fftshift(np.angle(S_img)), cmap=plt.cm.Spectral_r)  \n",
    "fig.colorbar(im, ax=ax[1], orientation='horizontal');"
   ]
  },
  {
   "cell_type": "markdown",
   "metadata": {
    "slideshow": {
     "slide_type": "slide"
    }
   },
   "source": [
    "¿Podemos reconstruir la imagen usando sólo el espectro de magnitud? ¿O usando sólo el de fase?\n",
    "\n",
    "Con este sencillo experimento podemos resaltar que es lo que guarda cada espectro"
   ]
  },
  {
   "cell_type": "code",
   "execution_count": null,
   "metadata": {
    "slideshow": {
     "slide_type": "fragment"
    }
   },
   "outputs": [],
   "source": [
    "def hist_eq(img, nbins=256):\n",
    "    image_hist, bins = np.histogram(img.flatten(), nbins, density=True)\n",
    "    cdf = image_hist.cumsum() \n",
    "    cdf = 255 * cdf / cdf[-1] \n",
    "    image_eq = np.interp(img.flatten(), bins[:-1], cdf)\n",
    "    return image_eq.reshape(img.shape).astype('int')\n",
    "    #return img\n",
    "\n",
    "reconstruct = lambda S: np.real(fftpack.ifft2(S))\n",
    "\n",
    "fig, ax = plt.subplots(2, 2, figsize=(8, 6), tight_layout=True)\n",
    "for ax_ in ax.ravel():\n",
    "    ax_.axis('off')\n",
    "\n",
    "ax[0, 0].imshow(img_doge, cmap=plt.cm.Greys_r);\n",
    "S_dog = fftpack.fft2(img_doge)\n",
    "ax[0, 1].hist(img_doge.ravel(), alpha=0.5, bins=100); \n",
    "ax[0, 1].hist(hist_eq(img_doge.ravel()), alpha=0.5, bins=100);ax[0, 1].axis('on')\n",
    "ax[1, 0].set_title('Usando solo magnitud')\n",
    "ax[1, 0].imshow(hist_eq(reconstruct(np.abs(S_dog))), cmap=plt.cm.Greys_r);\n",
    "ax[1, 1].set_title('Usando solo fase')\n",
    "ax[1, 1].imshow(hist_eq(reconstruct(np.exp(1j*np.angle(S_dog, deg=False)))), cmap=plt.cm.Greys_r);"
   ]
  },
  {
   "cell_type": "markdown",
   "metadata": {},
   "source": [
    "La base de Fourier representan las texturas presentes en la imagen\n",
    "\n",
    "- El espectro de amplitud nos dice la importancia de cada textura\n",
    "- El espectro de fase nos dice la dirección de cada textura\n",
    "\n",
    "Si solo usamos la importancia sin la dirección el resultado es ininteligible\n",
    "\n",
    "Si solo usamos sólo la dirección podemos entender los contornos pero se pierden la información de intensidad de color (importancia)"
   ]
  },
  {
   "cell_type": "markdown",
   "metadata": {
    "slideshow": {
     "slide_type": "slide"
    }
   },
   "source": [
    "**Pregunta:**\n",
    "\n",
    "¿Qué pasa si intercambiamos la fase y magnitud de dos imágenes de igual tamaño?"
   ]
  },
  {
   "cell_type": "code",
   "execution_count": null,
   "metadata": {
    "slideshow": {
     "slide_type": "fragment"
    }
   },
   "outputs": [],
   "source": [
    "img_inst = color2bw(plt.imread(\"../images/InsInformatica.jpg\"))  \n",
    "fig, ax = plt.subplots(2, 2, figsize=(6, 5), tight_layout=True)\n",
    "for ax_ in ax.ravel():\n",
    "    ax_.axis('off')\n",
    "\n",
    "ax[0, 0].imshow(img_doge, cmap=plt.cm.Greys_r);\n",
    "ax[0, 1].imshow(img_inst, cmap=plt.cm.Greys_r); \n",
    "S_inf = fftpack.fft2(img_inst)\n",
    "rec_doge = fftpack.ifft2(np.abs(S_dog)*np.exp(1j*np.angle(S_inf, deg=False)))\n",
    "rec_inst = fftpack.ifft2(np.abs(S_inf)*np.exp(1j*np.angle(S_dog, deg=False)))\n",
    "ax[1, 0].set_title('Amplitud doge\\nFase instituto')\n",
    "ax[1, 0].imshow(np.real(rec_doge), cmap=plt.cm.Greys_r); \n",
    "ax[1, 1].set_title('Amplitud instituto\\nFase doge')\n",
    "ax[1, 1].imshow(np.real(rec_inst), cmap=plt.cm.Greys_r); "
   ]
  },
  {
   "cell_type": "code",
   "execution_count": null,
   "metadata": {},
   "outputs": [],
   "source": []
  }
 ],
 "metadata": {
  "kernelspec": {
   "display_name": "Python 3",
   "language": "python",
   "name": "python3"
  },
  "language_info": {
   "codemirror_mode": {
    "name": "ipython",
    "version": 3
   },
   "file_extension": ".py",
   "mimetype": "text/x-python",
   "name": "python",
   "nbconvert_exporter": "python",
   "pygments_lexer": "ipython3",
   "version": "3.7.10"
  }
 },
 "nbformat": 4,
 "nbformat_minor": 2
}
