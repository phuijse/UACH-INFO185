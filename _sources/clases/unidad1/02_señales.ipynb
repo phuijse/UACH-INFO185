{
 "cells": [
  {
   "cell_type": "code",
   "execution_count": null,
   "metadata": {},
   "outputs": [],
   "source": [
    "%matplotlib inline \n",
    "import numpy as np\n",
    "import matplotlib.pyplot as plt\n",
    "from matplotlib import rcParams\n",
    "rcParams['figure.dpi'] = 120"
   ]
  },
  {
   "cell_type": "markdown",
   "metadata": {},
   "source": [
    "# ¿Qué es una señal?"
   ]
  },
  {
   "cell_type": "markdown",
   "metadata": {},
   "source": [
    "## Definiciones\n",
    "\n",
    "**Definición de diccionario**\n",
    "\n",
    "```{note}\n",
    "Una señal es un signo, símbolo o gesto que entrega un mensaje relacionado a una situación particular\n",
    "```\n",
    "\n",
    "**Ejemplo:** Señales de advertencia de peligro (Vialidad, Chile)\n",
    "\n",
    "<img src=\"../images/señales_advertencia.png\" width=\"300\">\n",
    "\n",
    "**Ejemplo:** Semáforo chileno (Imagen tomada de Diario La Segunda)\n",
    "\n",
    "<img src=\"../images/semaforos.jpg\" width=\"300\">\n",
    "\n",
    "El mensaje que entrega la señal puede cambiar en el tiempo o en el espacio\n",
    "\n",
    "**Definición matemática**\n",
    "   \n",
    "Podemos usar lenguaje matemático para formalizar la definición anterior\n",
    "\n",
    "```{note}\n",
    "Una señal es una **función** del tiempo (u otra variable) que entrega información (mensaje) sobre un fenómeno físico\n",
    "```\n",
    "\n",
    "Una función es un mapeo entre dos variables\n",
    "\n",
    "$$\n",
    "f: x \\to y\n",
    "$$\n",
    "\n",
    "donde\n",
    "\n",
    "- $x$ es la variable **independiente**, algunos ejemplos típicos son el tiempo (1d), la superficie (2d), el volumen (3d), etc\n",
    "- $y$ es la variable **dependiente**, algunos ejemplos son el potencial eléctrico en un componente, la presión en el aire (sonido), la intensidad de un pixel (color), etc\n",
    "\n",
    "\n",
    "Veamos algunos ejemplos de señales ¿Cúantas variables independientes y dependientes hay en cada caso?\n",
    "\n",
    "\n",
    "**Ejemplo:** Evolución de los mercados accionarios\n",
    "\n",
    "<img src=\"../images/stock_market.png\" width=\"400\">  \n",
    "\n",
    "**Ejemplo:** Transito de un exoplaneta frente a su estrella \n",
    "\n",
    "<img src=\"../images/transit.gif\" width=\"400\">\n",
    "\n",
    "**Ejemplo:** Actividad eléctrica cerebral en múltiples zonas del craneo\n",
    "\n",
    "<img src=\"../images/scalp.gif\" width=\"400\"> \n",
    "\n",
    "**Ejemplo:** Tensor de imágenes obtenidas con resonancia magnética\n",
    "\n",
    "<img src=\"../images/fmri.jpg\" width=\"400\">  "
   ]
  },
  {
   "cell_type": "markdown",
   "metadata": {},
   "source": [
    "## Carácterísticas de una señal \n",
    "\n",
    "Sea una señal definida como una función $g(t)$ donde $t$ es el tiempo (variable independiente)\n",
    "\n",
    "Asumiremos que $g(t)$ sólo existe entre $t=0$ y $t=T$\n",
    "\n",
    "En base a esto podemos definir su\n",
    "\n",
    "- **Duración:** Tiempo final menus tiempo final, en este caso: $T$\n",
    "- **Energía:** Corresponde a la norma de la señal\n",
    "\n",
    "$$\n",
    "E_g = ||g|| = \\int_{0}^{T} | g(t) |^2 dt \n",
    "$$\n",
    "\n",
    "> La energía es una medida del tamaño/área de la señal\n",
    "\n",
    "<img src=\"../images/sigsize1.png\">\n",
    "\n",
    "- **Potencia:** Energía por unidad de tiempo\n",
    "\n",
    "$$\n",
    "P_g = \\lim_{T\\to\\infty} \\frac{1}{T} \\int_{0}^{T} |g(t)|^2 dt \n",
    "$$\n",
    "\n",
    "que se mide usualmente en $10 \\log_{10}(P) [dBm]$ donde dB corresponde a decibel\n",
    "\n",
    ">  La potencia mide la fuerza o intensidad de la señal\n",
    "\n",
    "- **Razón señal a ruido (SNR)**: Corresponde a la potencia de la señal dividido por la potencia del ruido. \n",
    "\n",
    "> La SNR es una medida de la calidad de la señal"
   ]
  },
  {
   "cell_type": "markdown",
   "metadata": {},
   "source": [
    "## Clasificación de señales\n",
    "\n",
    "Podemos hacer una clasificación general de las señales en función del dominio de sus variables independientes y dependientes\n",
    "\n",
    "- Señal de tiempo continuo o de tiempo discreto\n",
    "- Señal analógica: variable dependiente continua\n",
    "- Señal digital: variable dependiente cuantizada (digital)\n",
    "\n",
    "<img src=\"../images/signal2.png\" width=\"500\">  \n"
   ]
  },
  {
   "cell_type": "markdown",
   "metadata": {},
   "source": [
    "Notemos que:\n",
    "\n",
    "- Las señales \"naturales\" son en general analógicas de tiempo continuo: Una señal analógica puede digitalizarse muestreando en el tiempo (reloj) y cuantizando en su magnitud\n",
    "- Los sistemas de comunicación digitales se basan en pulsos eléctricos de tiempo discreto\n",
    "- Hoy en día las tecnologías digitales han reemplazando a las análogicas ¿Por qué?\n",
    "\n",
    "> La comunicación digital es más resistente al ruido y a las distorsiones (Lathi & Ding, 2009, Sec 1.2)\n",
    "\n"
   ]
  },
  {
   "cell_type": "markdown",
   "metadata": {},
   "source": [
    "También podemos clasificar una señal según como la podemos modelar matematicamente\n",
    "\n",
    "Una señal **determinística** es aquella que puede describirse completamente por una ecuación matemática\n",
    "\n",
    "**Ejemplo:** Una sinusoide en el tiempo con frecuencia fundamental $f$\n",
    "\n",
    "$$\n",
    "s(t) = \\cos(2\\pi f t)\n",
    "$$\n",
    "\n",
    "Por otro lado una señal **estocástica** es aquella que sólo puede ser descrita probabilisticamente, es decir en términos de su densidad de probabilidad\n",
    "\n",
    "**Ejemplo:** Una señal de ruido Gaussiano con media $\\mu$ y covarianza $\\Sigma$\n",
    "\n",
    "$$\n",
    "z \\sim \\mathcal{N}(\\mu, \\Sigma)\n",
    "$$\n",
    "\n",
    "```{note}\n",
    "Si bien esto es útil para ordenar las ideas hay que considerar que en muchos casos tendremos señales que combinan aspectos determinísticos y estocásticos\n",
    "```"
   ]
  },
  {
   "cell_type": "code",
   "execution_count": null,
   "metadata": {},
   "outputs": [],
   "source": [
    "x = np.linspace(0.0, 5.0, num=1000)\n",
    "fig, ax = plt.subplots(1, 2, figsize=(10, 4))\n",
    "ax[0].plot(x, np.cos(2.0*np.pi*1.124*x), linewidth=2)\n",
    "ax[0].set_title('Señal determinista')\n",
    "ax[1].plot(x, np.random.randn(len(x)))\n",
    "ax[1].set_title('Señal estocástica');"
   ]
  },
  {
   "cell_type": "markdown",
   "metadata": {},
   "source": [
    "También podemos clasificar una señal según su comportamiento en el tiempo\n",
    "\n",
    "- Señal periódica: es aquella que se repite luego de un cierto tiempo P. Este tiempo se denomina periodo\n",
    "- Señal aperiódica: es aquella que no se repite regularmente en el tiempo."
   ]
  },
  {
   "cell_type": "code",
   "execution_count": null,
   "metadata": {},
   "outputs": [],
   "source": [
    "x = np.linspace(0.0, 5.0, num=1000)\n",
    "fig, ax = plt.subplots(1, 2, figsize=(12, 4))\n",
    "ax[0].plot(x, np.sin(2.0*np.pi*1.0*x)*np.sin(2.0*np.pi*0.5*x) + 0.1*np.random.randn(len(x)), linewidth=2)\n",
    "ax[0].set_title('Señal Periódica')\n",
    "ax[1].plot(x, x + np.random.randn(len(x)))\n",
    "ax[1].set_title('Señal Aperiódica');"
   ]
  },
  {
   "cell_type": "markdown",
   "metadata": {},
   "source": [
    "## Resumen\n",
    "\n",
    "Podemos describir y clasificar una señal según\n",
    "\n",
    "- La dimensionalidad de sus variables\n",
    "- El dominio de sus variables\n",
    "- Los modelos matemáticos que la describen\n",
    "- Su comportamiento temporal o espacial"
   ]
  },
  {
   "cell_type": "code",
   "execution_count": null,
   "metadata": {},
   "outputs": [],
   "source": []
  }
 ],
 "metadata": {
  "kernelspec": {
   "display_name": "Python 3",
   "language": "python",
   "name": "python3"
  },
  "language_info": {
   "codemirror_mode": {
    "name": "ipython",
    "version": 3
   },
   "file_extension": ".py",
   "mimetype": "text/x-python",
   "name": "python",
   "nbconvert_exporter": "python",
   "pygments_lexer": "ipython3",
   "version": "3.7.10"
  }
 },
 "nbformat": 4,
 "nbformat_minor": 4
}
