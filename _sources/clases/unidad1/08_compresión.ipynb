{
 "cells": [
  {
   "cell_type": "code",
   "execution_count": null,
   "metadata": {},
   "outputs": [],
   "source": [
    "%matplotlib inline\n",
    "import numpy as np\n",
    "import matplotlib.pyplot as plt\n",
    "from matplotlib import rcParams\n",
    "rcParams['figure.dpi'] = 120\n",
    "import cv2"
   ]
  },
  {
   "cell_type": "markdown",
   "metadata": {},
   "source": [
    "# Transmisión y Compresión \n",
    "\n",
    "En esta lección:\n",
    "\n",
    "- Esquema transmisor de Shannon\n",
    "- Algoritmo JPEG (primeros pasos)\n"
   ]
  },
  {
   "cell_type": "markdown",
   "metadata": {},
   "source": [
    "## Ancho de banda de un video\n",
    "\n",
    "\n",
    "¿Cúanto pesa una imagen en resolución 4K?\n",
    "\n",
    "$$\n",
    "3840 \\cdot 2160 \\cdot 3 \\cdot 8 \\approx 200 \\text{[Mb]}\n",
    "$$\n",
    "\n",
    "(asumiendo 255 niveles para los píxeles)\n",
    "\n",
    "```{note}\n",
    "Un video es una secuencia de imágenes corriendo a una cierta tasa medida en cuadros por segundo (fps). Un estándar típico es 24 fps, lo cual es suficiente para dar la ilusión de movimiento fluido. \n",
    "```\n",
    "\n",
    "¿Cuánto ancho de banda se necesita para ver un video a 24 fps en tiempo real (sin audio)?\n",
    "\n",
    "$$\n",
    "200 \\text{[Mb]} \\cdot 24 [1/s] = 4.8 \\text{[Gb/s]},\n",
    "$$\n",
    "\n",
    "Si comparamos este valor con la velocidad de descarga de los planes de internet, resulta ser claramente infactible\n",
    "\n",
    "```{warning}\n",
    "¿Cómo pueden entonces funcionar los servicios de streaming?\n",
    "```\n",
    "\n",
    "Responderemos esta pregunta estudiando en detalle el bloque transmisor del modelo teórico de Shannon"
   ]
  },
  {
   "cell_type": "markdown",
   "metadata": {},
   "source": [
    "## Modelo de Shannon revisitado\n",
    "\n",
    "Recordemos el modelo de Shannon\n",
    "\n",
    "<img src=\"../images/shannon-diagram.svg\" width=\"500\">\n",
    "\n",
    "El **transmisor** puede subdividirse en cuatro etapas\n",
    "\n",
    "<img src=\"../images/transmitter.svg\" width=\"600\">\n",
    "\n",
    "donde\n",
    "\n",
    "- Transformación: Cambia la representación de los datos de forma tal de disminuir su redudancia y correlación\n",
    "- Cuantización: Reduce la cantidad de bits que se usan para representar la señal. Este paso provoca pérdidas en la señal, por lo que sólo se ocupa cuando no es necesario recuperar la señal de forma perfecta luego de transmitir\n",
    "- Codificación de fuente: Reescribe la señal usando un **código de largo variable**\n",
    "- Codificación de canal: Robustece el código para que pueda transmitirse por un canal posiblemente ruidoso con menos errores\n",
    "\n",
    "\n",
    "En esta lección veremos en detalle los pasos de transformación y cuantización para el algoritmo JPEG\n",
    "\n",
    "Las próximas lecciones tratan sobre los pasos de codificación los cuales se basan en teoría de la información\n"
   ]
  },
  {
   "cell_type": "markdown",
   "metadata": {},
   "source": [
    "## Compresión y codificación\n",
    "\n",
    "Comprimir es:\n",
    "\n",
    "```{note}\n",
    "Codificar la información usando \"menos bits\" que la representación original\n",
    "```\n",
    "\n",
    "\n",
    "La compresión puede ser de tipo\n",
    "\n",
    "- *Lossless* (sin pérdidas): Los datos originales pueden reconstruirse perfectamente\n",
    "- *Lossy* (con pérdidas): Se reconstruye una versión aproximada de los datos originales\n",
    "\n",
    "Si usamos cuantización entonces estamos asumiendo pérdidas\n"
   ]
  },
  {
   "cell_type": "markdown",
   "metadata": {},
   "source": [
    "##  Joint Photographic Experts Group (JPEG)\n",
    "\n",
    "A modo de ejemplo estudiaremos en detalle el (ampliamente utilizado) estándar [ISO](https://es.wikipedia.org/wiki/Organizaci%C3%B3n_Internacional_de_Normalizaci%C3%B3n)/ITU para comprimir imágenes digitales conocido como JPEG. \n",
    "\n",
    "En esencia JPEG corresponde a un método de compresión con pérdidas que considera los siguientes pasos (los pasos destacados tienen pérdidas)\n",
    "\n",
    "1. Preprocesamiento:\n",
    "    1. Conversión a estándar YCbCr \n",
    "    1. **Submuestreo de canales de color**\n",
    "1. Partición de la imagen en bloques de 8x8 píxeles. Luego por cada bloque:\n",
    "    1. Transformada discreta coseno (DCT)\n",
    "    1. **Cuantización escalar con matriz Q**\n",
    "    1. Reordenamiento zig-zag \n",
    "    1. Codificación Run-length\n",
    "    1. Codificación de Huffman\n",
    "\n",
    "Un archivo en formato JPEG contiene los bloques de 8x8 codificados (cuerpo) y el diccionario de codificación (header)\n",
    "\n",
    "El siguiente diagrama muestra el bloque transmisor JPEG:\n",
    "\n",
    "<img src=\"../images/jpg-transmisor.png\" width=\"500\"> \n",
    "\n",
    "Para descomprimir una imagen JPEG se realizan los pasos anteriores en reversa, por ende se necesita tener el diccionario de codificación. El siguiente diagrama muestra el bloque receptor JPEG:\n",
    "\n",
    "<img src=\"../images/jpg-receptor.png\" width=\"500\"> \n",
    "\n",
    "> A continuación estudiaremos cada uno de estos pasos"
   ]
  },
  {
   "cell_type": "markdown",
   "metadata": {},
   "source": [
    "### Preprocesamiento\n",
    "\n",
    "Primero se convierte la imagen a estándar YCbCr\n",
    "\n",
    "Luego (opcionalmente) se reduce la resolución de los canales chroma (Cb y Cr) con respecto al canal de luminancia (Y)\n",
    "\n",
    "Algunas estándares de submuestreo de color son\n",
    "\n",
    "<img src=\"../images/422.jpg\" width=\"600\">\n",
    "\n",
    "Donde por ejemplo 4:2:2 significa que los canales chroma tienen la mitad de la resolución de la luminancia\n",
    "\n",
    "El submuestreo aprovecha que el sistema visual humano es más sencible a la iluminación que al color. \n",
    "\n",
    "En la práctica es muy difícil notar la disminución en calidad de imagen 4:2:2 JPEG con respecto a una donde no se hizo submuestreo de color\n"
   ]
  },
  {
   "cell_type": "markdown",
   "metadata": {},
   "source": [
    "**Ejemplo**\n",
    "\n",
    "Podemos usar la función `cvtColor` de OpenCV para obtener la imagen en estándar YCbCr\n",
    "\n",
    "Luego submuestreamos cada canal a gusto y recomponemos la señal"
   ]
  },
  {
   "cell_type": "code",
   "execution_count": null,
   "metadata": {},
   "outputs": [],
   "source": [
    "im = cv2.imread(\"../images/valdivia-hd.png\") \n",
    "# Nota: Por defecto opencv importa como BGR en vez de RGB\n",
    "im = cv2.cvtColor(im, cv2.COLOR_BGR2RGB)\n",
    "# Transformar a YCrCb y extraer los canales\n",
    "Y, Cb, Cr = cv2.cvtColor(im, cv2.COLOR_RGB2YCrCb).T\n",
    "Cb_submuestreo = np.repeat(Cb[::2, :], 2, axis=0)\n",
    "Cr_submuestreo = np.repeat(Cr[::2, :], 2, axis=0)\n",
    "# Juntar y convertir en RGB\n",
    "im_ycrcb = np.stack((Y, Cb_submuestreo, Cr_submuestreo)).T\n",
    "im2 = cv2.cvtColor(im_ycrcb.astype('uint8'), cv2.COLOR_YCrCb2RGB)    \n",
    "\n",
    "# Visualizar resultado\n",
    "fig, ax = plt.subplots(2, figsize=(6, 6), tight_layout=True)\n",
    "ax[0].imshow(im)\n",
    "ax[0].axis('off')\n",
    "ax[0].set_title('Imagen original')\n",
    "ax[1].imshow(im2)\n",
    "ax[1].axis('off')\n",
    "ax[1].set_title('Imagen submuestreada');"
   ]
  },
  {
   "cell_type": "markdown",
   "metadata": {},
   "source": [
    "### Separación en bloques y tranformación con DCT\n",
    "\n",
    "El algoritmo JPEG se aplica secuencialmente en bloques disjuntos de 8x8 píxeles\n",
    "\n",
    "Cada bloque se lleva al dominio de la frecuencia usando la transformada discreta coseno"
   ]
  },
  {
   "cell_type": "markdown",
   "metadata": {},
   "source": [
    "**Discrete Cosine Transform (DCT)**\n",
    "\n",
    "Sea una señal discreta y bidimensional $g[n_1, n_2]$ con índices $n_1 \\in [0, N_1-1]$ y $n_2 \\in [0, N_2-1]$ su DCT es \n",
    "\n",
    "$$\n",
    "G_C[k_1, k_2] = \\sum_{n_1=0}^{N_1-1} \\sum_{n_2=0}^{N_2-1} 4 g[n_1, n_2] \\cos \\left ( \\frac{\\pi k_1}{2N_1}(2n_1+1)  \\right) \\cos \\left ( \\frac{\\pi k_2}{2N_2}(2n_2+1)  \\right) \n",
    "$$\n",
    "y su inversa\n",
    "\n",
    "$$\n",
    "g[n_1, n_2] = \\frac{1}{N_1 N_2}\\sum_{k_1=0}^{N_1-1} \\sum_{k_2=0}^{N_2-1} w[k_1]w[k_2]G[k_1, k_2] \\cos \\left ( \\frac{\\pi k_1}{2N_1}(2n_1+1)  \\right) \\cos \\left ( \\frac{\\pi k_2}{2N_2}(2n_2+1)  \\right), \n",
    "$$\n",
    "\n",
    "donde \n",
    "\n",
    "$$\n",
    "w[k] =\\begin{cases}\n",
    "1/2 & \\text{ssi} ~~ k=0\\\\\n",
    "1 & \\text{ssi} ~~ k \\neq 0\n",
    "\\end{cases} \n",
    "$$\n",
    "\n",
    "La DCT bidimensional:\n",
    "\n",
    "- se puede descomponer en 2 aplicaciones de la DCT 1D\n",
    "- es lineal, y cumple el principio de conservación de energía. Podemos llevar una imagen al espacio de frecuencias sin pérdida de información\n",
    "- es equivalente a la DFT de una señal \"simetricamente extendida\"\n",
    "\n",
    "$$\n",
    "y[k] =\\begin{cases}\n",
    "x[k] & \\text{ssi} ~~ k<N\\\\\n",
    "x[2N-1-k] & \\text{ssi} ~~ N \\leq k < 2N - 1 \n",
    "\\end{cases} \n",
    "$$\n",
    "\n",
    "Es decir que podemos usar el algoritmo FFT para calcular eficientemente la DCT\n",
    "\n",
    "\n",
    "**Ojo:** La convolución en espacio original no es multiplicación en el espacio DCT\n"
   ]
  },
  {
   "cell_type": "markdown",
   "metadata": {},
   "source": [
    "**Ejemplo:** Imagen simetricamente extendida\n",
    "\n",
    "Así se ve una imagen simetricamente extendida \n",
    "\n",
    "Debido a esto la DCT no tiene artefactos de borde como la FFT"
   ]
  },
  {
   "cell_type": "code",
   "execution_count": null,
   "metadata": {},
   "outputs": [],
   "source": [
    "im_bw = cv2.cvtColor(im, cv2.COLOR_BGR2YCrCb)[:, :, 0]\n",
    "im_bw_sym = np.hstack((im_bw, np.fliplr(im_bw)))\n",
    "im_bw_sym = np.vstack((np.flipud(im_bw_sym), im_bw_sym))\n",
    "\n",
    "fig, ax = plt.subplots(figsize=(8, 5), tight_layout=True)\n",
    "ax.axis('off')\n",
    "ax.imshow(im_bw_sym, cmap=plt.cm.Greys_r);"
   ]
  },
  {
   "cell_type": "markdown",
   "metadata": {},
   "source": [
    "**Ejemplo:** Transformada DCT\n",
    "\n",
    "La transformada coseno está implementada en `scipy.fftpack`\n",
    "\n",
    "Sin embargo no existe una versión para dos dimensiones como la transformada de Fourier\n",
    "\n",
    "Tenemos que aplicarla en cadena primero a la dimensión 0 y luego a la 1 (o viceversa)"
   ]
  },
  {
   "cell_type": "code",
   "execution_count": null,
   "metadata": {},
   "outputs": [],
   "source": [
    "from scipy import fftpack\n",
    "\n",
    "DCT2 = lambda g, norm='ortho': fftpack.dct( fftpack.dct(g, axis=0, norm=norm), axis=1, norm=norm)\n",
    "IDCT2 = lambda G, norm='ortho': fftpack.idct( fftpack.idct(G, axis=0, norm=norm), axis=1, norm=norm)\n",
    "\n",
    "imsize = im_bw.shape\n",
    "dct_matrix = np.zeros(shape=imsize)\n",
    "\n",
    "# Se recorre la imagen en bloques de 8x8\n",
    "for i in range(0, imsize[0], 8):\n",
    "    for j in range(0, imsize[1], 8):\n",
    "        dct_matrix[i:(i+8),j:(j+8)] = DCT2(im_bw[i:(i+8),j:(j+8)])"
   ]
  },
  {
   "cell_type": "markdown",
   "metadata": {},
   "source": [
    "¿Cómo se ven estos bloques?"
   ]
  },
  {
   "cell_type": "code",
   "execution_count": null,
   "metadata": {},
   "outputs": [],
   "source": [
    "def plot_values(ax, tile, fontsize=14):\n",
    "    mid = (tile.max() + tile.min())/2.\n",
    "    for i in range(8):\n",
    "        for j in range(8):\n",
    "            label = tile[i, j]\n",
    "            color = 'black' if label > mid else 'white'\n",
    "            ax.text(j, i, int(label), fontsize=fontsize, \n",
    "                    color=color, ha='center', va='center')\n",
    "            \n",
    "block_idx = 15\n",
    "bloque_pixels = im_bw[8*block_idx:8*block_idx+8, 8*block_idx:8*block_idx+8]\n",
    "bloque_dct = dct_matrix[8*block_idx:8*block_idx+8, 8*block_idx:8*block_idx+8]\n",
    "\n",
    "fig, ax = plt.subplots(1, 2, figsize=(8, 4), tight_layout=True, sharey=True)\n",
    "ax[0].imshow(bloque_pixels, cmap=plt.cm.Greys_r, vmin=im_bw.min(), vmax=im_bw.max())\n",
    "ax[0].set_title(\"%d 8x8 image block\" %(block_idx)); \n",
    "plot_values(ax[0], bloque_pixels)\n",
    "# DCT 8x8\n",
    "ax[1].imshow(bloque_dct, cmap=plt.cm.Greys_r, vmin=dct_matrix.min(), vmax=dct_matrix.max())\n",
    "ax[1].set_title(\"8x8 DCT\")\n",
    "plot_values(ax[1], bloque_dct);"
   ]
  },
  {
   "cell_type": "markdown",
   "metadata": {},
   "source": [
    "Una imagen tiene mucha correlación entre sus píxeles vecinos\n",
    "\n",
    "Al llevarla al espacio de frecuencia esta información se concentra en el cero (centro) del espectro\n",
    "\n",
    "- La frecuencia cero del bloque DCT es la esquina superior izquierda\n",
    "- La frecuencia aumenta de izquierda a derecha y de arriba hacia abajo\n",
    " \n",
    "\n",
    "Notemos que muchos de los coeficientes de alta frecuencia de la DCT tienen valores bajos \n",
    "\n",
    "```{note}\n",
    "La DCT ha disminuido la redundancia en la información\n",
    "```"
   ]
  },
  {
   "cell_type": "markdown",
   "metadata": {},
   "source": [
    "### Cuantización \n",
    "\n",
    "En este paso se busca cuantizar cada matriz DCT de 8x8 y reducir la \"cantidad de valores posibles\"\n",
    "\n",
    "```{note}\n",
    "La cuantización es una operación de redondeo o truncamiento\n",
    "```\n",
    "\n",
    "El ejemplo más clásico se conoce como cuantización escalar. Esta operación recibe una señal $x$ y retorna un nuevo valor definido como\n",
    "\n",
    "$$\n",
    "\\begin{equation}\n",
    "    Q(x)=\n",
    "    \\begin{cases}\n",
    "      r_0, & x \\in [d_0, d_1) \\\\\n",
    "      r_1, & x \\in [d_1, d_2) \\\\\n",
    "      \\vdots & \\vdots \\\\\n",
    "      r_i, & x \\in [d_i, d_{i+1}) \\\\\n",
    "      \\vdots & \\vdots \\\\\n",
    "      r_{L-1}& x \\in [d_{L-1}, d_{L}) \\\\\n",
    "    \\end{cases}\n",
    "\\end{equation}\n",
    "$$\n",
    "\n",
    "donde el diseñador del cuantizar debe decidir la cantidad y valor de $r_i$ y también los límites o fronteras $d_i$\n",
    "\n",
    "Un caso particular es la **cuantización uniforme** donde la diferencia entre los niveles $q$ es constante\n",
    "\n",
    "Si $d_0 = -V$ y $d_L = V$, una cuantización uniforme de $L$ niveles sería\n",
    "\n",
    "$$\n",
    "q = \\frac{2V}{L}\n",
    "$$\n",
    "\n",
    "$$\n",
    "d_{i} = d_{i-1} + q  = d_0 + i q = -V + i \\frac{2V}{L}\n",
    "$$\n",
    "\n",
    "y el valor de representación es el punto medio de cada nivel\n",
    "\n",
    "$$\n",
    "r_i = \\frac{1}{2} (d_i + d_{i+1}) = -d_0 + \\frac{2i+1}{2} \\Delta = -V + (2i+1) \\frac{V}{L}\n",
    "$$ \n",
    "\n",
    "También podríamos definir $q$ y usar la fórmula\n",
    "\n",
    "$$\n",
    "x_q = -V + \\frac{q}{2} + q\\cdot \\text{floor}\\left(\\frac{x+V}{q} \\right)\n",
    "$$\n",
    "\n",
    "\n",
    "La calidad de la señal cuantizada se mide usando el error de cuantización o diferencia cuadrática entre el valor real y su versión cuantizada\n",
    "\n",
    "$$\n",
    "d_c = \\|Q(x) -x\\|^2\n",
    "$$"
   ]
  },
  {
   "cell_type": "markdown",
   "metadata": {},
   "source": [
    "**Ejemplo**\n",
    "\n",
    "Cuantización uniforme de una señal sinusoidal con distintos valores de $q $"
   ]
  },
  {
   "cell_type": "code",
   "execution_count": null,
   "metadata": {},
   "outputs": [],
   "source": [
    "def quantize_uniform(x, x_min, q):\n",
    "    return x_min + q/2 + np.floor((x-x_min)/q)*q\n",
    "\n",
    "t = np.arange(100, step=0.1)\n",
    "s1 = np.sin(2.0*np.pi*t*0.05)\n",
    "s2 = quantize_uniform(s1, s1.min(), q=0.1)\n",
    "s3 = quantize_uniform(s1, s1.min(), q=0.2)\n",
    "\n",
    "fig, ax = plt.subplots(3, figsize=(6, 4), tight_layout=True, sharex=True)\n",
    "ax[0].plot(t, s1)\n",
    "ax[0].set_title('Señal original')\n",
    "ax[1].plot(t, s2)\n",
    "ax[1].set_title('Cuantización uniforme q=0.1')\n",
    "ax[2].plot(t, s3);\n",
    "ax[2].set_title('Cuantización uniforme q=0.2');"
   ]
  },
  {
   "cell_type": "markdown",
   "metadata": {},
   "source": [
    "**Cuantización en JPEG**\n",
    "\n",
    "Recordemos que JPEG cuantiza en el espacio de frecuencia\n",
    "\n",
    "- Cada bloque de 8x8 de componentes DCT se cuantiza por separado\n",
    "- El nivel de cada uno de los componentes se redondea según una matriz de cuantización Q\n",
    "- Q fue diseñada tal que componentes de alta frecuencia se cuantizan en menos niveles\n",
    "- Existen muchas implementaciones de la matriz Q según fabricante y equipo: https://www.impulseadventure.com/photo/jpeg-quantization.html"
   ]
  },
  {
   "cell_type": "code",
   "execution_count": null,
   "metadata": {},
   "outputs": [],
   "source": [
    "Q = np.array([[16, 11, 10, 16, 24, 40, 51, 61],\n",
    "              [12, 12, 14, 19, 26, 58, 60, 55],\n",
    "              [14, 13, 16, 24, 40, 57, 69, 56],\n",
    "              [14, 17, 22, 29, 51, 87, 80, 62],\n",
    "              [18, 22, 37, 56, 68, 109, 103, 77],\n",
    "              [24, 35, 55, 64, 81, 104, 113, 92],\n",
    "              [49, 64, 78, 87, 103, 121, 120, 101],\n",
    "              [72, 92, 95, 98, 112, 100, 103, 99]])"
   ]
  },
  {
   "cell_type": "markdown",
   "metadata": {},
   "source": [
    "El bloque cuantizado se obtiene como $\\text{ROUND}\\left(\\frac{G_C}{Q}\\right)$"
   ]
  },
  {
   "cell_type": "code",
   "execution_count": null,
   "metadata": {},
   "outputs": [],
   "source": [
    "block_idx = 15\n",
    "bloque_pixels = im_bw[8*block_idx:8*block_idx+8, 8*block_idx:8*block_idx+8]\n",
    "bloque_dct = dct_matrix[8*block_idx:8*block_idx+8, 8*block_idx:8*block_idx+8]\n",
    "bloque_cuantizado = np.round(bloque_dct/Q)\n",
    "\n",
    "fig, ax = plt.subplots(1, 3, figsize=(10, 4), tight_layout=True, sharey=True)\n",
    "ax[0].imshow(bloque_pixels, cmap=plt.cm.Greys_r, vmin=im_bw.min(), vmax=im_bw.max())\n",
    "ax[0].set_title(\"%d 8x8 image block\" %(block_idx)); \n",
    "plot_values(ax[0], bloque_pixels)\n",
    "# DCT 8x8\n",
    "ax[1].imshow(bloque_dct, cmap=plt.cm.Greys_r, vmin=dct_matrix.min(), vmax=dct_matrix.max())\n",
    "ax[1].set_title(\"8x8 DCT\")\n",
    "plot_values(ax[1], bloque_dct)\n",
    "ax[2].imshow(bloque_cuantizado, cmap=plt.cm.Greys_r)\n",
    "plot_values(ax[2], bloque_cuantizado)\n",
    "ax[2].set_title(\"8x8 Cuantizado\\n%d nonzero\" %(np.count_nonzero(bloque_cuantizado))); "
   ]
  },
  {
   "cell_type": "markdown",
   "metadata": {},
   "source": [
    "**Ejemplo**\n",
    "\n",
    "El nivel de cuantización de JPEG se controla como un valor denominado tipicamente como calidad que va entre 0 y 100\n",
    "\n",
    "A mayor calidad se aplica menor cuantización, resultando en un archivo más pesado"
   ]
  },
  {
   "cell_type": "code",
   "execution_count": null,
   "metadata": {},
   "outputs": [],
   "source": [
    "def cuantizar(percent):    \n",
    "    im_dct = np.zeros(imsize)\n",
    "    nnz = np.zeros(dct_matrix.shape)\n",
    "    if (percent < 50):\n",
    "        S = 5000/percent\n",
    "    else:\n",
    "        S = 200 - 2*percent \n",
    "    Q_dyn = np.floor((S*Q + 50) / 100);\n",
    "    Q_dyn[Q_dyn == 0] = 1\n",
    "    for i in range(0, imsize[0], 8):\n",
    "        for j in range(0, imsize[1], 8):\n",
    "            quant = np.round(dct_matrix[i:(i+8),j:(j+8)]/Q_dyn) \n",
    "            im_dct[i:(i+8),j:(j+8)] = IDCT2(quant)\n",
    "            nnz[i, j] = np.count_nonzero(quant)\n",
    "    return im_dct, np.sum(nnz)\n",
    "    \n",
    "fig, ax = plt.subplots(3, figsize=(5, 8), tight_layout=True)\n",
    "ax[0].imshow(im_bw, cmap=plt.cm.Greys_r); \n",
    "ax[0].set_title(f\"Imagen original {np.prod(im_bw.shape)*8/1e+6:0.3f} MB\")\n",
    "ax[0].axis('off')\n",
    "imc, nnz = cuantizar(50)\n",
    "ax[1].imshow(imc, cmap=plt.cm.Greys_r); \n",
    "ax[1].set_title(f\"50% de calidad {nnz*8/1e+6:0.3f} MB\")\n",
    "ax[1].axis('off')\n",
    "imc, nnz = cuantizar(10)\n",
    "ax[2].imshow(imc, cmap=plt.cm.Greys_r); \n",
    "ax[2].set_title(f\"10% de calidad {nnz*8/1e+6:0.3f} MB\")\n",
    "ax[2].axis('off');"
   ]
  },
  {
   "cell_type": "markdown",
   "metadata": {},
   "source": [
    "### Reordenamiento zig-zag\n",
    "\n",
    "Luego de cuantizar el bloque de 8x8 este se reordena como una tira de largo 64 aplicando un reordenamiento de tipo zig-zag\n",
    "\n",
    "<img src=\"../images/Zig-Zag-reordering-matrix.png\" width=\"500\">\n",
    "\n",
    "El reordenamiento en zig zag crea un vector donde los componentes están ordenados por frecuencia y los ceros (de las frecuencias altas) quedan más cerca\n",
    "\n",
    "```{note}\n",
    "Puedes revisar el algoritmo para generar el arreglo zig-zag en distintos lenguajes aquí: https://rosettacode.org/wiki/Zig-zag_matrix\n",
    "```\n",
    "\n",
    "El reordenamiento zig-zag hace más eficiente el siguiente paso: Run Length Encoding (RLE)\n"
   ]
  },
  {
   "cell_type": "markdown",
   "metadata": {},
   "source": [
    "### Run Length encoding\n",
    "\n",
    "El run-length es una codificación sencilla y sin pérdida, que es muy eficiente cuando tenemos valores que se repiten\n",
    "\n",
    "Los datos codificados son tuplas (nrep, valor) concatenadas, donde nrep es la cantidad de veces que se repitió valor, como muestra la siguiente figura\n",
    "\n",
    "<img src=\"../images/rle.jpg\" width=\"500\">\n",
    "\n",
    "\n",
    "El próximo paso del algoritmo JPEG es la codificación de Huffmann la cual veremos en la próxima lección\n"
   ]
  },
  {
   "cell_type": "code",
   "execution_count": null,
   "metadata": {},
   "outputs": [],
   "source": []
  }
 ],
 "metadata": {
  "kernelspec": {
   "display_name": "Python 3",
   "language": "python",
   "name": "python3"
  },
  "language_info": {
   "codemirror_mode": {
    "name": "ipython",
    "version": 3
   },
   "file_extension": ".py",
   "mimetype": "text/x-python",
   "name": "python",
   "nbconvert_exporter": "python",
   "pygments_lexer": "ipython3",
   "version": "3.7.10"
  },
  "toc": {
   "base_numbering": 1,
   "nav_menu": {},
   "number_sections": true,
   "sideBar": true,
   "skip_h1_title": false,
   "title_cell": "Table of Contents",
   "title_sidebar": "Contents",
   "toc_cell": false,
   "toc_position": {},
   "toc_section_display": true,
   "toc_window_display": false
  }
 },
 "nbformat": 4,
 "nbformat_minor": 4
}
