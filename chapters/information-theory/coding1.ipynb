{
 "cells": [
  {
   "cell_type": "code",
   "execution_count": 1,
   "metadata": {},
   "outputs": [],
   "source": [
    "%matplotlib inline\n",
    "import string\n",
    "import collections\n",
    "import numpy as np\n",
    "import matplotlib.pyplot as plt"
   ]
  },
  {
   "cell_type": "markdown",
   "metadata": {},
   "source": [
    "# Codificación de fuente"
   ]
  },
  {
   "cell_type": "markdown",
   "metadata": {},
   "source": [
    "Sea una fuente (*source*) que emite símbolos. El conjunto de todos los símbolos que puede emitir esta fuente se llama alfabeto de fuente.\n",
    "\n",
    "**Ejemplo**\n",
    "\n",
    "Considere el siguiente famoso libro digitalizado:"
   ]
  },
  {
   "cell_type": "code",
   "execution_count": 2,
   "metadata": {},
   "outputs": [
    {
     "name": "stdout",
     "output_type": "stream",
     "text": [
      "En un lugar de la Mancha, de cuyo nombre no quiero acordarme, no ha mucho tiempo que vivía un hidalgo...\n"
     ]
    }
   ],
   "source": [
    "with open('data/quijote.txt', 'r') as file:\n",
    "    texto = file.read()\n",
    "\n",
    "print(texto[:101] + \"...\")"
   ]
  },
  {
   "cell_type": "markdown",
   "metadata": {},
   "source": [
    "Los símbolos de esta fuente incluyen las letras, los números, [los signos ortográficos](https://es.wikipedia.org/wiki/Signos_ortogr%C3%A1ficos), el espacio en blanco y el salto de linea."
   ]
  },
  {
   "cell_type": "markdown",
   "metadata": {
    "slideshow": {
     "slide_type": "subslide"
    }
   },
   "source": [
    ":::{important}\n",
    "\n",
    "La **codificación de fuente** (*source coding*) es el proceso que asigna un **código** a cada símbolo emitido por la fuente.\n",
    "\n",
    ":::\n",
    "\n",
    "**Ejemplo** \n",
    "\n",
    "Un código muy utilizado para transmitir información es el código binario. El alfabeto del código binario tiene dos elementos: `0` y `1`.\n",
    "\n",
    "A partir de estos elementos se pueden formar todo tipo de \"palabras de código\": `00`, `01`, `101`, `10001`, ...\n",
    "\n",
    "Digamos que queremos codificar el famoso texto anterior utilizando código binario. La cantidad de símbolos en el alfabeto de fuente es:"
   ]
  },
  {
   "cell_type": "code",
   "execution_count": 3,
   "metadata": {},
   "outputs": [
    {
     "data": {
      "text/plain": [
       "49"
      ]
     },
     "execution_count": 3,
     "metadata": {},
     "output_type": "execute_result"
    }
   ],
   "source": [
    "len(set(texto))"
   ]
  },
  {
   "cell_type": "markdown",
   "metadata": {},
   "source": [
    "Si utilizamos un código binario de largo fijo para cada símbolo necesitariamos al menos 5 bits: $2^6 = 64 > 49$.\n",
    "\n",
    "El largo del texto es:"
   ]
  },
  {
   "cell_type": "code",
   "execution_count": 4,
   "metadata": {},
   "outputs": [
    {
     "data": {
      "text/plain": [
       "3029"
      ]
     },
     "execution_count": 4,
     "metadata": {},
     "output_type": "execute_result"
    }
   ],
   "source": [
    "len(texto)"
   ]
  },
  {
   "cell_type": "markdown",
   "metadata": {},
   "source": [
    "Y por lo tanto la cantidad de bits utilizando 6 bits por símbolo será:"
   ]
  },
  {
   "cell_type": "code",
   "execution_count": 5,
   "metadata": {},
   "outputs": [
    {
     "data": {
      "text/plain": [
       "18174"
      ]
     },
     "execution_count": 5,
     "metadata": {},
     "output_type": "execute_result"
    }
   ],
   "source": [
    "len(texto)*6"
   ]
  },
  {
   "cell_type": "markdown",
   "metadata": {},
   "source": [
    "Cerca de 18.000 bits.\n",
    "\n",
    "Sin embargo, esta forma ingenua de codificar no considera el importante hecho de que no todos los símbolos son igual de frecuentes/probables.\n",
    "\n",
    "De los 49 símbolos, los 5 más frecuentes son:"
   ]
  },
  {
   "cell_type": "code",
   "execution_count": 6,
   "metadata": {},
   "outputs": [
    {
     "data": {
      "text/plain": [
       "[(' ', 540), ('a', 316), ('e', 312), ('o', 201), ('s', 189)]"
      ]
     },
     "execution_count": 6,
     "metadata": {},
     "output_type": "execute_result"
    }
   ],
   "source": [
    "collections.Counter(texto).most_common(5)"
   ]
  },
  {
   "cell_type": "markdown",
   "metadata": {},
   "source": [
    "y los 5 menos frecuentes son:"
   ]
  },
  {
   "cell_type": "code",
   "execution_count": 7,
   "metadata": {},
   "outputs": [
    {
     "data": {
      "text/plain": [
       "[('B', 1), ('N', 1), ('A', 1), ('C', 1), ('S', 1)]"
      ]
     },
     "execution_count": 7,
     "metadata": {},
     "output_type": "execute_result"
    }
   ],
   "source": [
    "collections.Counter(texto).most_common()[:-6:-1]"
   ]
  },
  {
   "cell_type": "markdown",
   "metadata": {
    "slideshow": {
     "slide_type": "fragment"
    }
   },
   "source": [
    ":::{hint}\n",
    "\n",
    "Podemos reducir la cantidad de bits del texto si usamos códigos más cortos para las letras más frecuentes.\n",
    "\n",
    ":::\n",
    "\n",
    "Para crear un código de largo de palabra variable en base a la probabilidad de aparición de los símbolos debemos estudiar  **la teoría de la información**."
   ]
  },
  {
   "cell_type": "markdown",
   "metadata": {
    "slideshow": {
     "slide_type": "subslide"
    }
   },
   "source": [
    "## Introducción a la Teoría de la información\n",
    "\n",
    "La Teoría de la Información (TI) es el estudio matemático de la cuantificación y transmisión de la información. Fue propuesto por **[Claude Shannon](https://es.wikipedia.org/wiki/Claude_Shannon)** en 1948: *A Mathematical Theory of Communication*. \n",
    "\n",
    "TI proporciona formas para describir la información de un proceso y tiene importantes aplicaciones en telecomunicaciones, computación y biología (genética). También ha tenido una fuerte influencia en la teoría de codificación y compresión."
   ]
  },
  {
   "cell_type": "markdown",
   "metadata": {},
   "source": [
    "**Ejemplo:** \"Las dos fuentes\"\n",
    "\n",
    "Sean dos fuentes **F1** y **F2** que pueden emitir los siguientes cuatro símbolos: $A$, $B$, $C$ o $D$.\n",
    "\n",
    "**F1** es completamente aleatoria, es decir: $P(A) = P(B) = P(C) = P(D) = \\frac{1}{4}$.\n",
    "\n",
    "Si queremos predecir el próximo valor emitido por **F1** ¿Cúal es el número mínimo de preguntas con respuesta si/no que debemos hacer?\n",
    "\n",
    "<img src=\"images/information1.svg\" width=\"600\">\n",
    "\n",
    "> La respuesta es 2 para cualquiera de los símbolos\n",
    "\n"
   ]
  },
  {
   "cell_type": "markdown",
   "metadata": {},
   "source": [
    "**F2** en cambio emite $A$, $B$, $C$ y $D$ con probabilidades $P(A) =\\frac{1}{2}$, $P(B) =\\frac{1}{4}$, $P(C) = \\frac{1}{8}$ y $P(D) =\\frac{1}{8}$, respectivamente.\n",
    "\n",
    "Si queremos predecir el próximo valor retornado por **F2** ¿Cúal es el número mínimo de preguntas con respuesta si/no que debemos hacer? \n",
    "\n",
    "<img src=\"images/information2.svg\" width=\"800\">\n",
    "\n",
    "> La respuesta es 1 para $A$, 2 para $B$ y 3 para $C$ y $D$"
   ]
  },
  {
   "cell_type": "markdown",
   "metadata": {},
   "source": [
    "### Cantidad de información (según Shannon)\n",
    "\n",
    "La cantidad de información de un símbolo $x$ es el logaritmo en base dos del recíproco de su probabilidad de aparición\n",
    "\n",
    "$$\n",
    "I(x) = \\log_2 \\left(\\frac{1}{P(x)} \\right) = \\log_2 P(x)^{-1} = - \\log_2 P(x),\n",
    "$$\n",
    "\n",
    "que es equivalente a la mínima cantidad de preguntas si/no que debemos hacer para adivinar su valor\n",
    "\n",
    "La cantidad de información se mide en **bits**\n",
    "\n",
    ":::{important}\n",
    "\n",
    "Un **bit** es la cantidad de información requerida para escoger entre **dos** alternativas equiprobables\n",
    "\n",
    ":::\n",
    "\n",
    "La cantidad de información es también llamada **sorpresa**\n",
    "\n",
    ":::{note}\n",
    "\n",
    "Mientras más improbable es un símbolo, más nos sorprendemos cuando observamos que ocurre\n",
    "\n",
    ":::"
   ]
  },
  {
   "cell_type": "markdown",
   "metadata": {},
   "source": [
    "### Entropía\n",
    "\n",
    "Sea una variable aleatoria $X$ (fuente) con $N$ resultados posibles (símbolos) $\\{x_1, x_2, \\ldots, x_N\\}$ donde cada símbolo $x_i$ tiene una probabilidad $p_i \\in [0, 1]$ y $\\sum_{i=1}^N p_i = 1$ \n",
    "\n",
    "Por ende cada símbolo tiene una cantidad de información  $I(x_i) = -\\log_2 \\left( p_i \\right)$ \n",
    "\n",
    "Definimos la **cantidad de información promedio** de $X$ como\n",
    "\n",
    "$$\n",
    "\\begin{align}\n",
    "H (X) &= \\mathbb{E}_{x\\sim X} \\left [ - \\log P(X=x) \\right ]  \\nonumber \\\\\n",
    "&= - \\sum_{i=1}^N P(X=x_i) \\log_2 P(X=x_i)  \\nonumber \\\\\n",
    "&= - \\sum_{i=1}^N p_i \\log_2 p_i  \\quad \\text{[bits/símbolo]} \\nonumber\n",
    "\\end{align}\n",
    "$$\n",
    "\n",
    "que se conoce como **Entropía de Shannon** \n",
    "\n",
    "**Propiedades de la entropía**\n",
    "\n",
    "- La entropía es siempre positiva $H(X) \\geq 0$. La igualdad se cumple si un $x_i$ tiene $p_i=1$ (caso más predecible)\n",
    "- La entropia está acotada $H(X) \\leq H_0$, donde $H_0= \\log_2(N)$ es la entropia si $p_i = \\frac{1}{N}~ \\forall i$ (caso menos predecible)\n",
    "- La redundancia de $X$ es $1 - H(X)/H_0$\n",
    "\n",
    ":::{note}\n",
    "\n",
    "Mientras más predecible es $X$ menor es su entropía y mayor es su redundancia\n",
    "\n",
    ":::\n",
    "\n",
    "\n",
    "**Ejemplo:** El retorno de las dos fuentes\n",
    "\n",
    "En promedio, ¿Cuántas preguntas por símbolo hace la fuente **F1**?\n",
    "\n",
    "> $1 \\frac{1}{4} + 1 \\frac{1}{4} + 1 \\frac{1}{4} + 1 \\frac{1}{4} = 2$ preguntas por símbolo. Su entropía es $2$ [bits]\n",
    "\n",
    "En promedio, ¿Cuántas preguntas por símbolo hace la fuente **F2**?\n",
    "\n",
    "> $1 \\frac{1}{2} + 2 \\frac{1}{4} + 3 \\frac{1}{8} + 3 \\frac{1}{8} = 1.75$ preguntas por símbolo. Su entropía es $1.75$ [bits]\n",
    "\n",
    "Si cada fuente retorna un mensaje de 100 símbolos ¿Cúanta información produjo cada una?\n",
    "\n",
    "> **F1** produce 200 bits mientras que **F2** produce 175 bits\n",
    "\n",
    "Mientras más predecible menos información se necesita\n",
    "\n",
    "\n"
   ]
  },
  {
   "cell_type": "markdown",
   "metadata": {
    "slideshow": {
     "slide_type": "subslide"
    }
   },
   "source": [
    "**Ejemplo:** \"La moneda con truco\"\n",
    "\n",
    "Sea una variable aleatoria $X$ que modela el resultado de lanzar una moneda y asumamos que el resultado puede tomar solo dos valores: Cara $o$ o Cruz $x$\n",
    "\n",
    "- La probabilidad de que salga cara es $p_o = p$\n",
    "- La probabilidad de que salga cruz es $p_x = 1- p$\n",
    "\n",
    "\n",
    "Luego la entropía es \n",
    "\n",
    "$$\n",
    "\\begin{align}\n",
    "H(X) &= -\\sum_{i=1}^2 p_i \\log_2 p_i \\nonumber \\\\ \n",
    "&= -p_x \\log (p_x) - p_o \\log p_o \\nonumber \\\\\n",
    "&= - p \\log(p) - (1-p) \\log(1-p)\n",
    "\\end{align}\n",
    "$$\n",
    "\n",
    "Reflexione:\n",
    "\n",
    "- ¿En que casos la entropía es mínima? ¿En qué caso es máxima?\n",
    "- ¿Puedes relacionar la entropía con la aleatoridad/sorpresa del resultado de lanzar la moneda?\n",
    "\n",
    "\n",
    "Ojo: $\\lim_{z\\to 0^+} z \\log 1/z = 0$"
   ]
  },
  {
   "cell_type": "code",
   "execution_count": 8,
   "metadata": {
    "slideshow": {
     "slide_type": "fragment"
    }
   },
   "outputs": [
    {
     "data": {
      "image/png": "[encoded data removed]",
      "text/plain": [
       "<Figure size 432x288 with 1 Axes>"
      ]
     },
     "metadata": {
      "needs_background": "light"
     },
     "output_type": "display_data"
    }
   ],
   "source": [
    "p = np.linspace(0.01, 0.99, num=100)\n",
    "H = -p*np.log2(p) - (1-p)*np.log2(1-p)\n",
    "fig, ax = plt.subplots(1, figsize=(6, 4), sharex=True)\n",
    "ax.set_xlabel('p')\n",
    "ax.plot(p, -np.log2(p), label='I(o)', lw=3)\n",
    "ax.plot(p, -np.log2(1-p), label='I(x)', lw=3)\n",
    "ax.plot(p, H, label='H(X)', lw=3)\n",
    "ax.set_ylim([0, 3])\n",
    "plt.legend();"
   ]
  },
  {
   "cell_type": "markdown",
   "metadata": {
    "slideshow": {
     "slide_type": "subslide"
    }
   },
   "source": [
    "**Ejemplo:** Entropía del fragmento del famoso libro\n",
    "\n",
    "La entropía o cantidad de información promedio por símbolo es"
   ]
  },
  {
   "cell_type": "code",
   "execution_count": 9,
   "metadata": {
    "slideshow": {
     "slide_type": "fragment"
    }
   },
   "outputs": [
    {
     "data": {
      "text/plain": [
       "4.212472766686091"
      ]
     },
     "execution_count": 9,
     "metadata": {},
     "output_type": "execute_result"
    }
   ],
   "source": [
    "freq = np.array(list(collections.Counter(texto).values()))\n",
    "p = freq/np.sum(freq)\n",
    "H = -np.sum(p*np.log2(p))\n",
    "H"
   ]
  },
  {
   "cell_type": "markdown",
   "metadata": {},
   "source": [
    "Luego podemos estimar la cantidad de bits del famoso texto como:"
   ]
  },
  {
   "cell_type": "code",
   "execution_count": 10,
   "metadata": {},
   "outputs": [
    {
     "data": {
      "text/plain": [
       "12759.580010292168"
      ]
     },
     "execution_count": 10,
     "metadata": {},
     "output_type": "execute_result"
    }
   ],
   "source": [
    "H*len(texto)"
   ]
  },
  {
   "cell_type": "markdown",
   "metadata": {},
   "source": [
    "Más adelante veremos que tan acertado está este cálculo"
   ]
  },
  {
   "cell_type": "markdown",
   "metadata": {
    "slideshow": {
     "slide_type": "subslide"
    }
   },
   "source": [
    "**Ejemplo:** \"Meteorólogos del siglo XIX\"\n",
    "\n",
    "Nos encontramos a finales del siglo XIX. La estación meteorológica de Niebla hace una predicción del tiempo en Valdivia. Esta información se envía a Valdivia a través de telégrafo. \n",
    "\n",
    "Calcule la cantidad de información promedio que envía la estación a Valdivia en cada uno de los siguientes escenarios usando la **entropía de Shannon**:\n",
    "\n",
    "- Dos posibilidades: Lluvia y nublado, con probabilidad $1/2$ y $1/2$, respectivamente\n",
    "- Una posibilidad: Lluvia, con probabilidad $1$\n",
    "- Cuatro posibilidades: Lluvia, Nublado, Nubosidad parcial, soleado, con probabilidad $1/2$, $1/4$, $1/8$ y $1/8$, respectivamente\n",
    "\n",
    "**Respuesta:** \n",
    "\n",
    "Las probabilidades de cada mensaje son $2^{-1}$, $2^{-2}$, $2^{-3}$ y $2^{-3}$. Luego la cantidad de información de cada mensaje es: 1, 2, 3 y 3 bits, respectivamente. Por ende la entropía es $1/2 + 1/2 + 3/8 + 3/8 = 1.75$ bits"
   ]
  },
  {
   "cell_type": "markdown",
   "metadata": {
    "slideshow": {
     "slide_type": "subslide"
    }
   },
   "source": [
    "### Código de largo de palabra variable\n",
    "\n",
    "Para el **escenario 3** del ejemplo anterior códifique las alternativas usando un alfabeto de códigos binarios\n",
    "\n",
    "> ¿Cómo le asignamos un código a cada alternativa?\n",
    "\n",
    "**Opción 1:** Código de largo fijo\n",
    "\n",
    "Tenemos cuatro estados.\n",
    "\n",
    "Si todos los estados tienen igual cantidad de bits, necesitamos 2 bits para representarlos: `00`, `01`, `10`, `11`\n",
    "\n",
    "En este caso resulta equivalente a asumir equiprobabilidad y la entropía es 2 bits\n",
    "\n",
    "**Opción 2:** Código de largo variable (prefijo)\n",
    "\n",
    "Se usa 1, 2, 3 y 3 bits para cada estado, según su probabilidad de aparición. En este caso la entropía es 1.75 bits\n",
    "\n",
    "Podemos describir este escenario según\n",
    "\n",
    "- Primera decisión equiprobable: Lluvia **(0)** vs El resto (1)\n",
    "- Segunda decisión equiprobable: Nublado **(10)** vs El resto menos lluvia (11)\n",
    "- Tercera decisión equiprobable: Nubosidad parcial **(110)** vs soleado **(111)**\n",
    "\n",
    "Podemos representar graficamente usando un dendograma como se muestra a continuación\n",
    "\n",
    "<img src=\"images/dendogram.png\" width=\"500\">\n",
    "\n",
    "- Algoritmo de codificación con forma de árbol en base 2\n",
    "- Los mensajes codificados están en las hojas del árbol\n",
    "- **Código préfijo**: Ningún código puede ser prefijo de otro. \n",
    "- El código prefijo garantiza decodificación sin ambiguedad\n",
    "\n",
    "\n",
    "**Ejercicio**\n",
    "\n",
    "Se recibe `101100`. Decodifique la predicción del tiempo para los próximos tres días.   \n",
    "\n",
    "**Ejercicio** \n",
    "\n",
    "Si el código de lluvia fuera `1` en lugar de `0`, ¿Es posible decodificar el mensaje `11111`?\n",
    "\n",
    "La respuesta es **no**, pues el cambio ha hecho que el código sea ambiguo."
   ]
  },
  {
   "cell_type": "markdown",
   "metadata": {
    "slideshow": {
     "slide_type": "subslide"
    }
   },
   "source": [
    "## Codificación de Huffman\n",
    "\n",
    "La codificación de Huffman es un algoritmo sencillo de codificación de tipo prefijo:\n",
    "\n",
    "1. Se estima la probabilidad $p_i$ de cada símbolo\n",
    "1. Se ordenan los símbolos en orden descendente según $p_i$\n",
    "1. Juntar los dos con probabilidad menor en un grupo, su probabilidad se suma\n",
    "1. Volver al paso 2 hasta que queden dos grupos\n",
    "1. Asignarle 0 y 1 a las ramas izquierda y derecha del árbol, respectivamente\n",
    "1. El código resultante se lee desde la raiz hasta la hoja\n",
    "\n",
    "<img src=\"images/huff.png\" width=\"600\">\n"
   ]
  },
  {
   "cell_type": "markdown",
   "metadata": {},
   "source": [
    "**Ejemplo:** Codificación de Huffman del famoso texto\n",
    "\n",
    "- Primero estimamos la frecuencia usando `collections.Counter`\n",
    "- Luego construimos el dendograma usando `heapq`\n",
    "- Terminamos con un diccionario que transforma cada símbolo del texto en un código"
   ]
  },
  {
   "cell_type": "code",
   "execution_count": 11,
   "metadata": {},
   "outputs": [
    {
     "data": {
      "text/plain": [
       "{'\\n': '11011100100',\n",
       " ' ': '111',\n",
       " '(': '11011100101',\n",
       " ')': '11011100110',\n",
       " ',': '100010',\n",
       " '.': '00010010',\n",
       " ':': '0001111110',\n",
       " ';': '00010011',\n",
       " 'A': '110111001110',\n",
       " 'B': '110111001111',\n",
       " 'C': '110111010000',\n",
       " 'E': '0001111111',\n",
       " 'F': '11011101001',\n",
       " 'M': '110111010001',\n",
       " 'N': '110111010100',\n",
       " 'Q': '1101110110',\n",
       " 'S': '110111010101',\n",
       " 'T': '110111010110',\n",
       " 'U': '110111010111',\n",
       " 'a': '010',\n",
       " 'b': '100011',\n",
       " 'c': '10100',\n",
       " 'd': '11010',\n",
       " 'e': '001',\n",
       " 'f': '10101110',\n",
       " 'g': '1010110',\n",
       " 'h': '1010100',\n",
       " 'i': '11000',\n",
       " 'j': '00011110',\n",
       " 'l': '0110',\n",
       " 'm': '110110',\n",
       " 'n': '0111',\n",
       " 'o': '1011',\n",
       " 'p': '000110',\n",
       " 'q': '000101',\n",
       " 'r': '0000',\n",
       " 's': '1001',\n",
       " 't': '10000',\n",
       " 'u': '11001',\n",
       " 'v': '1010101',\n",
       " 'x': '110111011100',\n",
       " 'y': '1101111',\n",
       " 'z': '10101111',\n",
       " 'á': '110111000',\n",
       " 'é': '11011101111',\n",
       " 'í': '0001110',\n",
       " 'ñ': '000111110',\n",
       " 'ó': '0001000',\n",
       " 'ú': '110111011101'}"
      ]
     },
     "metadata": {},
     "output_type": "display_data"
    }
   ],
   "source": [
    "# Implementación adaptada de https://rosettacode.org/wiki/Huffman_coding#Python\n",
    "import heapq\n",
    "\n",
    "# Construir dendograma con las probabilidades ordenadas\n",
    "dendograma = [[frequencia/len(texto), [simbolo, \"\"]] for simbolo, frequencia in collections.Counter(texto).items()]\n",
    "heapq.heapify(dendograma)\n",
    "# Crear el código\n",
    "while len(dendograma) > 1:\n",
    "    lo = heapq.heappop(dendograma)\n",
    "    hi = heapq.heappop(dendograma)\n",
    "    for codigo in lo[1:]:\n",
    "        codigo[1] = '0' + codigo[1]\n",
    "    for codigo in hi[1:]:\n",
    "        codigo[1] = '1' + codigo[1]\n",
    "    heapq.heappush(dendograma, [lo[0] + hi[0]] + lo[1:] + hi[1:])\n",
    "# Convertir código a diccionario\n",
    "dendograma = sorted(heapq.heappop(dendograma)[1:])\n",
    "dendograma = {simbolo : codigo for simbolo, codigo in dendograma} \n",
    "display(dendograma)"
   ]
  },
  {
   "cell_type": "markdown",
   "metadata": {},
   "source": [
    "Ahora podemos convertir el texto en una tira binaria"
   ]
  },
  {
   "cell_type": "code",
   "execution_count": 12,
   "metadata": {},
   "outputs": [
    {
     "data": {
      "text/plain": [
       "'0001111111011111111001011111101101100110101100100000111110100011110110010111110111010001010011110100101010001010001011111010001111101001100111011111011111011110111101101000110000001111011110111110001011100111000001000010111110101010010110000110100100000110110001100010111011110111111010100010111110110110011010010101001011111100001100000111011000011010111110001011100100111110101011100010101010001110010111110010111111101010011000110100100110101011010111111101000111101101011100111111010001111011001001111010111101011100101111110101001100001100001100110001000010111000101110101101001000001010110010111010011110000110001010110110010101000101110000101110100000111001111111010111001100101010010111111101111111101011001001101010110101111110100101100000000001110101011000000010010111110111010111011101011110110110011001011111010001111010011010101101011111110110110111000100111110101010101010001011100010111001001111101000100000011100100001011100010111100101001100001101100010100000100001111110110010100111'"
      ]
     },
     "metadata": {},
     "output_type": "display_data"
    }
   ],
   "source": [
    "texto_codificado = \"\"\n",
    "for letra in texto:\n",
    "    texto_codificado += dendograma[letra]\n",
    "\n",
    "display(texto_codificado[:1000])"
   ]
  },
  {
   "cell_type": "markdown",
   "metadata": {},
   "source": [
    "Podemos usar `bytearray` para convertir nuestra tira de caracteres 0 y 1 a un arreglo de Bytes"
   ]
  },
  {
   "cell_type": "code",
   "execution_count": 13,
   "metadata": {},
   "outputs": [],
   "source": [
    "b = bytearray()\n",
    "for i in range(0, len(texto_codificado), 8): # Si el largo del texto no es múltiplo de 8 debemos hacer padding\n",
    "    byte = texto_codificado[i:i+8]\n",
    "    b.append(int(byte, 2))"
   ]
  },
  {
   "cell_type": "markdown",
   "metadata": {},
   "source": [
    "Guardando el archivo en disco:"
   ]
  },
  {
   "cell_type": "code",
   "execution_count": 14,
   "metadata": {},
   "outputs": [
    {
     "name": "stdout",
     "output_type": "stream",
     "text": [
      "1608\tquijote_comprimido.bin\r\n"
     ]
    }
   ],
   "source": [
    "with open(\"quijote_comprimido.bin\", \"wb\") as f: # Texto codificado\n",
    "    f.write(bytes(b))\n",
    "!du -B1 --apparent-size quijote_comprimido.bin"
   ]
  },
  {
   "cell_type": "markdown",
   "metadata": {},
   "source": [
    "Pesa 1608 Bytes, es decir 12864 bits\n",
    "\n",
    "En la práctica, para poder descomprimir el texto necesitamos también anexar el diccionario de codificación (dendograma)"
   ]
  },
  {
   "cell_type": "code",
   "execution_count": 15,
   "metadata": {},
   "outputs": [
    {
     "name": "stdout",
     "output_type": "stream",
     "text": [
      "2446\tquijote_comprimido.bin\r\n"
     ]
    }
   ],
   "source": [
    "with open(\"quijote_comprimido.bin\", \"wb\") as f: # Agregamos el diccionario en el header    \n",
    "    f.write(str(dendograma).encode())\n",
    "with open(\"quijote_comprimido.bin\", \"a\") as f: # salto de linea\n",
    "    f.write(\"\\n\")\n",
    "with open(\"quijote_comprimido.bin\", \"ab\") as f: # Texto codificado\n",
    "    f.write(bytes(b))\n",
    "!du -B1 --apparent-size quijote_comprimido.bin"
   ]
  },
  {
   "cell_type": "markdown",
   "metadata": {},
   "source": [
    "En el script [quijote_recuperado.py](https://github.com/phuijse/UACH-INFO185/blob/master/chapters/information-theory/quijote_recuperado.py) puedes revisar como se descomprime el texto"
   ]
  },
  {
   "cell_type": "markdown",
   "metadata": {
    "slideshow": {
     "slide_type": "subslide"
    }
   },
   "source": [
    "## Teorema de codificación de fuente de Shannon (*Source coding theorem*)\n",
    "\n",
    "\n",
    "Dada una variable aleatoria $X$ con entropía $H(X)$ existe una codificación de largo variable cuyo largo de palabra promedio $\\bar L$ satisface\n",
    "\n",
    "$$\n",
    "H(X) \\leq \\bar L < H(X) + 1\n",
    "$$\n",
    "\n",
    "Es decir que el límite inferior teórico del largo de palabra es $H(X)$. Esta codificación sin pérdida y de largo variable la llamamos **codificación entrópica** \n",
    "\n",
    "Este teorema nos dice cuanto podemos comprimir una señal sin que hayan pérdidas antes de enviarla por un canal (libre de ruido)\n",
    "\n",
    "También justifica la definición de entropía como medida de la cantidad de información\n",
    "\n",
    "\n",
    "Otra forma de ver el teorema:\n",
    "\n",
    "Sea una fuente $X$ que emite $N$ mensajes. \n",
    "\n",
    "> Los N mensajes pueden comprimirse en $N H(X)$ [bits] o más con riesgo de pérdida despreciable ($N\\to\\infty$)\n",
    "\n",
    "Por el contrario\n",
    "\n",
    "> Si comprimimos en menos de $N H(X)$ [bits] la pérdida está garantizada"
   ]
  },
  {
   "cell_type": "markdown",
   "metadata": {},
   "source": [
    "**Demostración**\n",
    "\n",
    "Sea una codificación C para una variable aleatoria $X$ con N posibles símbolos\n",
    "\n",
    "Cada símbolo $x_i$ tiene una probabilidad de ocurrencia $p_i \\in [0, 1]$ con $\\sum_i p_i = 1$ y un largo de código $L_i$\n",
    "\n",
    "Luego el largo promedio de los códigos es\n",
    "\n",
    "$$\n",
    "\\bar L = \\sum_{i=1}^N p_i L_i\n",
    "$$\n",
    "\n",
    "¿Qué valores de $L_i$ resultan en el menor $\\bar L$? \n",
    "\n",
    "> El largo óptimo es $L_i^* = -\\log_2 p_i$ y el promedio sería $\\bar L^* = H(X)$\n",
    "\n",
    "Digamos que proponemos otro largo $\\hat L_i = - \\log_2 q_i$, asumiendo que $\\sum_i q_i = 1$\n",
    "\n",
    "Luego el largo promedio sería\n",
    "\n",
    "$$\n",
    "\\begin{align}\n",
    "\\bar L &= \\sum_{i=1}^N p_i \\hat L_i  = - \\sum_{i=1}^N p_i \\log_2 q_i \\nonumber \\\\\n",
    "&= - \\sum_{i=1}^N p_i \\log_2 q_i - \\sum_{i=1}^N p_i \\log_2 p_i + \\sum_{i=1}^N p_i \\log_2 p_i \\nonumber \\\\\n",
    "&= - \\sum_{i=1}^N p_i \\log_2 p_i + \\sum_{i=1}^N p_i \\log_2 \\frac{p_i}{q_i} \\nonumber \\\\\n",
    "&= H(X) + \\sum_{i=1}^N p_i \\log_2 \\frac{p_i}{q_i} \\geq H(X) \\nonumber\n",
    "\\end{align}\n",
    "$$\n",
    "\n",
    "Con esto probamos que no hay mejor largo que $-\\log_2 p_i$\n",
    "\n",
    "Notemos que los $L_i^*$ no tendrían porque ser un número enteros \n",
    "\n",
    ":::{note}\n",
    "\n",
    "En general la codificación óptima cumple: $H(X) \\leq \\bar L^* < H(X) + 1$\n",
    "\n",
    ":::\n",
    "\n",
    "- Se puede estar entre esas cotas con el algoritmo de Huffman\n",
    "- La codificación aritmética en cambio casi siempre llega a la cota inferior\n",
    "- La codificación de Huffman y aritmética son **codificaciones entrópicas**"
   ]
  },
  {
   "cell_type": "code",
   "execution_count": null,
   "metadata": {},
   "outputs": [],
   "source": []
  }
 ],
 "metadata": {
  "kernelspec": {
   "display_name": "Python 3 (ipykernel)",
   "language": "python",
   "name": "python3"
  },
  "language_info": {
   "codemirror_mode": {
    "name": "ipython",
    "version": 3
   },
   "file_extension": ".py",
   "mimetype": "text/x-python",
   "name": "python",
   "nbconvert_exporter": "python",
   "pygments_lexer": "ipython3",
   "version": "3.10.9"
  }
 },
 "nbformat": 4,
 "nbformat_minor": 2
}
