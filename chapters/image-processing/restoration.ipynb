{
 "cells": [
  {
   "cell_type": "markdown",
   "metadata": {},
   "source": [
    "# Restauración de imágenes\n",
    "\n",
    "### Contenidos:\n",
    "\n",
    "- Restauración usando filtro inverso\n",
    "- Restauración usando filtro de Wiener"
   ]
  },
  {
   "cell_type": "code",
   "execution_count": null,
   "metadata": {},
   "outputs": [],
   "source": [
    "%matplotlib notebook\n",
    "import matplotlib.pyplot as plt\n",
    "import numpy as np\n",
    "from ipywidgets import interact, FloatSlider, IntSlider, FloatLogSlider\n",
    "\n",
    "def color2bw(img):\n",
    "    return np.dot(img, [0.299, 0.587, 0.114]) \n",
    "\n",
    "img_example = color2bw(plt.imread('../images/lobo.jpg')) \n",
    "plt.figure(figsize=(6, 3.5), tight_layout=True)\n",
    "plt.imshow(img_example, cmap=plt.cm.Greys_r);"
   ]
  },
  {
   "cell_type": "markdown",
   "metadata": {},
   "source": [
    "## Restauración de imágenes mediante deconvolución\n",
    "\n",
    "Una imagen observada $g(x,y)$ se puede modelar como\n",
    "\n",
    "$$\n",
    "g(x,y) =  f(x, y) * h(x, y) + n(x,y)\n",
    "$$\n",
    "\n",
    "donde \n",
    "- $f(x,y)$ es la imagen original\n",
    "- $n(x,y)$ es ruido blanco aditivo\n",
    "- $h(x,y)$ es la respuesta al impulso del capturador, también se llama Point Spread Function (PSF)\n",
    "\n",
    "> La PSF modela las distorsiones causadas por el dispositivo de captura o por el ambiente"
   ]
  },
  {
   "cell_type": "markdown",
   "metadata": {},
   "source": [
    "### Ejemplo: PSF de un telescopio\n",
    "<table><tr><td>\n",
    "    <img src=\"../images/psf3.png\" width=\"250\"></td><td><img src=\"../images/PSF1.png\" width=\"550\">\n",
    "</td></tr></table>\n",
    "<center><img src=\"../images/PSF2.jpeg\" width=\"600\"></center>\n"
   ]
  },
  {
   "cell_type": "markdown",
   "metadata": {},
   "source": [
    "# Deconvolución en frecuencia: Filtro inverso\n",
    "\n",
    "\n",
    "Deconvolución se refiere al proceso de recuperar $f(x,y)$ a partir de $g(x,y)$ usando supuestos sobre $h(x,y)$ y $n(x,y)$\n",
    "\n",
    "Si trabajamos en frecuencia:\n",
    "\n",
    "$$\n",
    "G(f_1, f_2) = F(f_1, f_2) \\cdot H(f_1, f_2) + N(f_1, f_2)\n",
    "$$\n",
    "\n",
    "Si conocemos $H$ e  ignoramos $N$ podemos estimar $F$ usando un **filtro inverso**\n",
    "\n",
    "$$\n",
    "\\hat F(f_1, f_2) = G(f_1, f_2) / H(f_1, f_2)\n",
    "$$\n",
    "\n",
    ">  ¿Problema resuelto?"
   ]
  },
  {
   "cell_type": "markdown",
   "metadata": {},
   "source": [
    "Simularemos una imagen observada $g$ usando una PSF Gaussiana para modelar un desenfoque vertical más ruido blanco para modelar ruido electrónico del dispositivo\n",
    "\n",
    "Luego implementaremos un filtro inverso"
   ]
  },
  {
   "cell_type": "code",
   "execution_count": null,
   "metadata": {},
   "outputs": [],
   "source": [
    "from scipy.signal import fftconvolve, convolve2d\n",
    "\n",
    "def minmax_normalize(data):\n",
    "    return (data - np.amin(data))/(np.amax(data) - np.amin(data))\n",
    "\n",
    "fx = fftpack.fftfreq(n=img_example.shape[1], d=1)\n",
    "fy = fftpack.fftfreq(n=img_example.shape[0], d=1)\n",
    "Fx, Fy = np.meshgrid(fx, fy) \n",
    "\n",
    "H = np.exp(-2*np.pi**2*(Fx**2*0.6**2 + Fy**2*10**2))\n",
    "F = fftpack.fft2(img_example/255.)\n",
    "g = np.abs(fftpack.ifft2((F*H))) + 0.01*np.random.randn(*img_example.shape)\n",
    "g = 255*minmax_normalize(g)\n",
    "G = fftpack.fft2(g/255.)\n",
    "\n",
    "fig, ax = plt.subplots(1, 2, figsize=(6, 4), tight_layout=True)\n",
    "ax[0].imshow(img_example[:, 100:500], cmap=plt.cm.Greys_r);\n",
    "ax[1].imshow(g[:, 100:500], cmap=plt.cm.Greys_r);"
   ]
  },
  {
   "cell_type": "code",
   "execution_count": null,
   "metadata": {},
   "outputs": [],
   "source": [
    "fig, ax = plt.subplots(1, 3, figsize=(7, 4), tight_layout=True);\n",
    "\n",
    "def update(tol):\n",
    "    for ax_ in ax.ravel():\n",
    "        ax_.cla(); ax_.axis('off');        \n",
    "    # Cuidamos de no dividir por cero\n",
    "    Fhat = G/(10**tol+H)\n",
    "    # Reconstrucción\n",
    "    fhat = np.abs(fftpack.ifft2(Fhat))\n",
    "    # Gráficas\n",
    "    ax[0].matshow(g[:, 100:500], cmap=plt.cm.Greys_r);\n",
    "    ax[1].matshow(fhat[:, 100:500], cmap=plt.cm.Greys_r); \n",
    "    ax[2].matshow(img_example[:, 100:500], cmap=plt.cm.Greys_r); \n",
    "    \n",
    "interact(update, \n",
    "         tol=FloatSlider(min=-4, max=0, value=-0.6, continuous_update=False,description=\"log(tolerance)\"));"
   ]
  },
  {
   "cell_type": "markdown",
   "metadata": {},
   "source": [
    "- El filtro inverso es difícil de calibrar\n",
    "- Fenomeno de amplificación de ruido\n",
    "<img src=\"../images/noise-amplification.png\">\n",
    "\n",
    " "
   ]
  },
  {
   "cell_type": "markdown",
   "metadata": {},
   "source": [
    "# Filtro de Wiener\n",
    "\n",
    "Sea un filtro lineal para estimar la imagen real a partir de la imagen observada\n",
    "\n",
    "$$\n",
    "\\hat f(x, y) = w(x,y) * g(x, y)\n",
    "$$\n",
    "\n",
    "Podemos buscar $w$ tal que el MSE sea mínimo:\n",
    "\n",
    "$$\n",
    "\\text{MSE} = \\mathbb{E} \\left[ \\left(f(x,y) - \\hat f(x,y) \\right)^2 \\right]\n",
    "$$\n",
    "\n",
    "Podemos resolver la ecuación anterior en frecuencia (asumiendo N ruido de media cero) y obtener\n",
    "\n",
    "$$\n",
    "W(f_1, f_2) = \\frac{H(f_1, f_2)^{*}}{|H(f_1, f_2)|^2 + \\frac{S_n(f_1, f_2)}{S_f(f_1, f_2)}},\n",
    "$$\n",
    "\n",
    "donde $S_n = |N(f_1, f_2)|^2$ es la densidad espectral del ruido y $S_f = |F(f_1, f_2)|^2$ es la densidad espectral de la señal original.\n",
    "\n",
    "- En general no conocemos las densidades espectral de potenica\n",
    "- El factor $S_f/S_n$ se puede interpretar como la razón señal a ruido (SNR)\n",
    "- Podemos hacer supuestos sobre la SNR\n",
    "\n",
    "Notemos también que si $S_n \\to 0$ se recupera el filtro inverso\n",
    "\n",
    "<img src=\"../images/wiener-noise.png\">\n"
   ]
  },
  {
   "cell_type": "code",
   "execution_count": null,
   "metadata": {},
   "outputs": [],
   "source": [
    "fig, ax = plt.subplots(1, 3, figsize=(7, 4), tight_layout=True);\n",
    "\n",
    "def update(K):\n",
    "    for ax_ in ax.ravel():\n",
    "        ax_.cla(); ax_.axis('off')\n",
    "    # Filtro de Wiener\n",
    "    WF = np.conj(H)/(np.abs(H)**2 + 10**K)\n",
    "    fhat = np.real(fftpack.ifft2(G*WF))\n",
    "    # Gráficas\n",
    "    ax[0].matshow(g[:, 100:500], cmap=plt.cm.Greys_r);\n",
    "    ax[1].matshow(fhat[:, 100:500], cmap=plt.cm.Greys_r); \n",
    "    ax[2].matshow(img_example[:, 100:500], cmap=plt.cm.Greys_r); \n",
    "    \n",
    "interact(update, K=FloatSlider(min=-6, max=1, value=0, continuous_update=False, description=\"log Sn/Sf\"));"
   ]
  },
  {
   "cell_type": "markdown",
   "metadata": {},
   "source": [
    "### Denoising con Scikit-image\n",
    "\n",
    "Scikit-image es una librería de Python que implementa múltiples herramientas y métodos de procesamiento de imágenes\n",
    "\n",
    "En particular tiene un módulo llamado [*restoration*](https://scikit-image.org/docs/dev/api/skimage.restoration.html), dedicado a eliminar ruido y corregir imágenes\n",
    "\n",
    "Entre sus funciones se encuentra el filtro de [Wiener regularizado](https://scikit-image.org/docs/dev/api/skimage.restoration.html#skimage.restoration.wiener)\n"
   ]
  },
  {
   "cell_type": "code",
   "execution_count": null,
   "metadata": {},
   "outputs": [],
   "source": [
    "from skimage.restoration import wiener\n",
    "\n",
    "fig, ax = plt.subplots(2, 2, figsize=(6, 4), tight_layout=True);\n",
    "\n",
    "def update(k):\n",
    "    for ax_ in ax.ravel():\n",
    "        ax_.cla(); ax_.axis('off')\n",
    "    fhat = wiener(g/255.0, balance=10**k, \n",
    "                  psf=np.abs(fftpack.fftshift(fftpack.ifft2(H))))\n",
    "    ax[0,0].matshow(g, cmap=plt.cm.Greys_r)\n",
    "    ax[0,1].matshow(g[80:250, 240:440], cmap=plt.cm.Greys_r)\n",
    "    ax[1,0].matshow(fhat, cmap=plt.cm.Greys_r)\n",
    "    ax[1,1].matshow(fhat[80:250, 240:440], cmap=plt.cm.Greys_r);\n",
    "    \n",
    "interact(update, \n",
    "         k=FloatSlider(min=-5, max=5, value=0, continuous_update=False,\n",
    "                       description=\"Regularizacion\"));"
   ]
  },
  {
   "cell_type": "markdown",
   "metadata": {},
   "source": [
    "Ejemplo de filtro basado en wavelets"
   ]
  },
  {
   "cell_type": "code",
   "execution_count": null,
   "metadata": {},
   "outputs": [],
   "source": [
    "from skimage.restoration import denoise_wavelet\n",
    "\n",
    "fhat = denoise_wavelet(g, rescale_sigma = True)\n",
    "\n",
    "fig, ax = plt.subplots(2, 2, figsize=(6.5, 4), tight_layout=True);\n",
    "for ax_ in ax.ravel():\n",
    "        ax_.cla(); ax_.axis('off')\n",
    "ax[0,0].matshow(g, cmap=plt.cm.Greys_r)\n",
    "ax[0,1].matshow(g[80:250, 240:440], cmap=plt.cm.Greys_r)\n",
    "ax[1,0].matshow(fhat, cmap=plt.cm.Greys_r)\n",
    "ax[1,1].matshow(fhat[80:250, 240:440], cmap=plt.cm.Greys_r);"
   ]
  },
  {
   "cell_type": "code",
   "execution_count": null,
   "metadata": {},
   "outputs": [],
   "source": []
  }
 ],
 "metadata": {
  "kernelspec": {
   "display_name": "Python 3",
   "language": "python",
   "name": "python3"
  },
  "language_info": {
   "codemirror_mode": {
    "name": "ipython",
    "version": 3
   },
   "file_extension": ".py",
   "mimetype": "text/x-python",
   "name": "python",
   "nbconvert_exporter": "python",
   "pygments_lexer": "ipython3",
   "version": "3.7.10"
  }
 },
 "nbformat": 4,
 "nbformat_minor": 4
}
