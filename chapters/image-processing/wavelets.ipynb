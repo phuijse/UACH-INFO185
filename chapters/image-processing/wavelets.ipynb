{
 "cells": [
  {
   "cell_type": "code",
   "execution_count": null,
   "metadata": {},
   "outputs": [],
   "source": [
    "import numpy as np\n",
    "%matplotlib notebook\n",
    "import scipy\n",
    "from scipy import fftpack\n",
    "import matplotlib as mpl\n",
    "import matplotlib.pyplot as plt\n",
    "from IPython.display import SVG, Audio\n",
    "import pywt\n",
    "\n",
    "plt.rcParams['image.cmap'] = 'gray'\n",
    "\n",
    "def color2bw(img):\n",
    "    return np.dot(img, [0.299, 0.587, 0.114]) \n",
    "\n",
    "import skimage"
   ]
  },
  {
   "cell_type": "markdown",
   "metadata": {},
   "source": [
    "# Descomposición multiresolución para imágenes\n",
    "\n",
    "Se refiere a separar una imagen en componentes de cada vez menos resolución\n",
    "\n",
    "Se puede usar un esquema de tipo piramidal\n",
    "\n",
    "Se calcula una versión de baja resolución de la imagen, se resta a la original y luego se \"achica\"\n",
    "\n",
    "Se guarda la versión más pequeña y los residuos (restas de imagenes)\n",
    "\n",
    "Ventajas: \n",
    "- Podemos reconstruir la imagen aumentando la resolución y sumando los residuos\n",
    "- Los residuos son fáciles de guardar: Distribución muy predecible: Entropía baja"
   ]
  },
  {
   "cell_type": "code",
   "execution_count": null,
   "metadata": {},
   "outputs": [],
   "source": [
    "data = skimage.img_as_float(skimage.data.camera()[::2, ::2])\n",
    "\n",
    "fig, ax = plt.subplots(2, 2, figsize=(8, 8))\n",
    "for ax_ in ax.ravel():\n",
    "    ax_.axis('off')\n",
    "ax[0, 0].imshow(data) \n",
    "smooth = skimage.filters.gaussian(data, sigma=1)\n",
    "ax[1, 0].imshow(smooth)\n",
    "delta = data - smooth\n",
    "ax[0, 1].imshow(delta)\n",
    "ax[1, 1].imshow(smooth[::2, ::2]);"
   ]
  },
  {
   "cell_type": "code",
   "execution_count": null,
   "metadata": {},
   "outputs": [],
   "source": [
    "fig, ax = plt.subplots(1, 2, figsize=(8, 4))\n",
    "\n",
    "ax[0].hist(data.ravel(), bins=100, density=True);\n",
    "ax[1].hist(delta.ravel(), bins=100, density=True);\n",
    "ax[0].set_title('Original')\n",
    "ax[1].set_title('Residuo');"
   ]
  },
  {
   "cell_type": "markdown",
   "metadata": {},
   "source": [
    "Cada vez que submuestreamos repetimos el proceso "
   ]
  },
  {
   "cell_type": "code",
   "execution_count": null,
   "metadata": {},
   "outputs": [],
   "source": [
    "fig, ax = plt.subplots(3, 2, figsize=(10, 15))\n",
    "\n",
    "for ax_, im1, im2 in zip(ax, \n",
    "                   skimage.transform.pyramids.pyramid_gaussian(data, max_layer=3, downscale=2, multichannel=False),\n",
    "                   skimage.transform.pyramids.pyramid_laplacian(data, max_layer=3, downscale=2)):\n",
    "    ax_[0].imshow(im1)  \n",
    "    ax_[1].imshow(im2)\n",
    "    ax_[0].axis('off'); ax_[1].axis('off')"
   ]
  },
  {
   "cell_type": "markdown",
   "metadata": {},
   "source": [
    "# Imágenes y frecuencia\n",
    "\n",
    "Recordemos que \n",
    "- Las tendencias están en las frecuencias bajas\n",
    "- Los detalles están en las frecuencias altas\n",
    "\n",
    "Podemos hacer una descomposición multiresolución en frecuencia\n",
    "\n",
    "Una herramienta ampliamente usada para esto son los **wavelets**\n",
    "\n",
    "Usaremos una librería de Python llamado [pywavelets](https://pywavelets.readthedocs.io/en/latest/ref/index.html)"
   ]
  },
  {
   "cell_type": "markdown",
   "metadata": {},
   "source": [
    "# Wavelets\n",
    "\n",
    "Originalmente se diseñaron para analizar señales unidimensionales\n",
    "\n",
    "Se definen a partir de dos funciones de ancho de banda limitado \n",
    "- Función wavelet $\\psi(t)$ que modela detalles (wavelet madre)\n",
    "- Función de escalamiento $\\phi(t)$ que modela tendencias (wavelet padre)\n",
    "\n",
    "Luego se generan versiones trasladadas y escaladas con cada uno: **wavelet hijos/hijas**\n",
    "\n",
    "$$\n",
    "\\psi_{s,\\tau}(t)  = \\frac{1}{\\sqrt{s}} \\psi \\left ( \\frac{t-\\tau}{s} \\right)\n",
    "$$\n",
    "\n",
    "Notemos que el wavelet tiene localización en el tiempo (parámetro $\\tau$) y escala de resolución (parámetro $s$) \n",
    "\n",
    "Podemos extraer comportamientos de una señal convolucionando con wavelets de distintas posiciones y escalas\n",
    "\n",
    "El proceso para encontrar los wavelets más importantes en una señal se realiza con la **Transformada Wavelet** \n",
    "\n",
    "$$\n",
    "W_\\psi(\\tau, s) = \\int f(t) \\psi_{s,\\tau} (t)\\,dt\n",
    "$$\n",
    "\n",
    "Los wavelet son ampliamente usados para análisis tiempo-frecuencia "
   ]
  },
  {
   "cell_type": "code",
   "execution_count": null,
   "metadata": {},
   "outputs": [],
   "source": [
    "import pywt\n",
    "\n",
    "# Creando un objeto wavelet\n",
    "fig, ax = plt.subplots(figsize=(6, 4))\n",
    "\n",
    "w = pywt.Wavelet('bior4.4') # Versión 1D del wavelet usado en el estándar JPEG 2000\n",
    "phi, psi, phi_r, psi_r, x = w.wavefun(5)\n",
    "ax.plot(x, phi, label='padre')\n",
    "ax.plot(x, psi, label='madre')\n",
    "plt.legend();"
   ]
  },
  {
   "cell_type": "markdown",
   "metadata": {},
   "source": [
    "Wavelets discretos implementados en pywt"
   ]
  },
  {
   "cell_type": "code",
   "execution_count": null,
   "metadata": {},
   "outputs": [],
   "source": [
    "print(pywt.families(short=True))\n",
    "print(pywt.wavelist(kind='discrete', family='bior'))"
   ]
  },
  {
   "cell_type": "code",
   "execution_count": null,
   "metadata": {},
   "outputs": [],
   "source": [
    "t, dt = np.linspace(0, 0.5, num=10000, retstep=True);\n",
    "s = scipy.signal.chirp(t, f0=5000, f1=3000, t1=t[-1], method='quadratic')\n",
    "Audio(s, rate=1.0/dt)"
   ]
  },
  {
   "cell_type": "markdown",
   "metadata": {},
   "source": [
    "## Transformada wavelet continua de un chirp"
   ]
  },
  {
   "cell_type": "code",
   "execution_count": null,
   "metadata": {
    "scrolled": false
   },
   "outputs": [],
   "source": [
    "coef, freqs = pywt.cwt(s, np.arange(1, 100, step=0.1), 'morl', sampling_period=dt)\n",
    "fig, ax = plt.subplots(figsize=(6, 4))\n",
    "X, Y = np.meshgrid(t, freqs)\n",
    "ax.contourf(X, Y, np.abs(coef), cmap=plt.cm.viridis);"
   ]
  },
  {
   "attachments": {
    "wavelet2D.png": {
     "image/png": "[encoded data removed]"
    }
   },
   "cell_type": "markdown",
   "metadata": {},
   "source": [
    "# Transformada Wavelet discreta\n",
    "\n",
    "Podemos representar un wavelet en tiempo discreto $n$, traslaciones discretas $k$ y escalas discretos $j$\n",
    "\n",
    "$$\n",
    "\\psi_{j, k} (n) = 2^{j/2} \\psi(2^j n - k)\n",
    "$$\n",
    "\n",
    "una señal discreta $f(n)$ puede descomponerse como\n",
    "\n",
    "$$\n",
    "f(n) = \\frac{1}{\\sqrt{M}} \\sum_k W_\\varphi (j_0, k) \\varphi_{j_0, k}(n) +  \\frac{1}{\\sqrt{M}} \\sum_k \\sum_{j=j_0}^\\infty W_\\varphi(j, k) \\psi_{j, k}(n)\n",
    "$$\n",
    "\n",
    "Donde los $W_\\psi (j_0, k)$ es la transformada wavelet padre y $W_\\phi (j, k)$ es la transformada wavelet padre\n",
    "\n",
    "Los primeros coeficientes guardan tendencias, los segundos guardan detalles\n",
    "\n",
    "- La transformada wavelet discreta 1D retorna estos dos conjuntos de coeficientes\n",
    "- La transformada wavelet discreta 2D retorna cuatro conjuntos: tendencia, detalles horizontal, verticales y diagonales\n",
    "\n",
    "![wavelet2D.png](attachment:wavelet2D.png)\n",
    "\n",
    "Cómo ya vimos las \"imágenes\" de detalles son predecibles, es decir que se pueden comprimir facilmente!"
   ]
  },
  {
   "cell_type": "code",
   "execution_count": null,
   "metadata": {
    "scrolled": false
   },
   "outputs": [],
   "source": [
    "LL, (LH, HL, HH) = pywt.dwt2(data, wavelet='db1')\n",
    "\n",
    "fig, ax = plt.subplots(2, 2, figsize=(9, 8))\n",
    "fig.subplots_adjust(left=0, bottom=0, right=1, top=1, hspace=0, wspace=0)\n",
    "for ax_ in ax.ravel():\n",
    "    ax_.axis('off')\n",
    "ax[0, 0].imshow(LL); ax[0, 0].set_title(\"LL\")\n",
    "ax[0, 1].imshow(LH); ax[0, 1].set_title(\"LH\")\n",
    "ax[1, 0].imshow(HL); ax[1, 0].set_title(\"HL\")\n",
    "ax[1, 1].imshow(HH); ax[1, 1].set_title(\"HH\");\n",
    "\n",
    "LL, (LH, HL, HH) = pywt.dwt2(LL, wavelet='db1')\n",
    "fig, ax = plt.subplots(2, 2, figsize=(9, 8))\n",
    "fig.subplots_adjust(left=0, bottom=0, right=1, top=1, hspace=0, wspace=0)\n",
    "for ax_ in ax.ravel():\n",
    "    ax_.axis('off')\n",
    "ax[0, 0].imshow(LL); ax[0, 0].set_title(\"LL\")\n",
    "ax[0, 1].imshow(LH); ax[0, 1].set_title(\"LH\")\n",
    "ax[1, 0].imshow(HL); ax[1, 0].set_title(\"HL\")\n",
    "ax[1, 1].imshow(HH); ax[1, 1].set_title(\"HH\");\n",
    "\n",
    "LL, (LH, HL, HH) = pywt.dwt2(LL, wavelet='db1')\n",
    "fig, ax = plt.subplots(2, 2, figsize=(9, 8))\n",
    "fig.subplots_adjust(left=0, bottom=0, right=1, top=1, hspace=0, wspace=0)\n",
    "for ax_ in ax.ravel():\n",
    "    ax_.axis('off')\n",
    "ax[0, 0].imshow(LL); ax[0, 0].set_title(\"LL\")\n",
    "ax[0, 1].imshow(LH); ax[0, 1].set_title(\"LH\")\n",
    "ax[1, 0].imshow(HL); ax[1, 0].set_title(\"HL\")\n",
    "ax[1, 1].imshow(HH); ax[1, 1].set_title(\"HH\");"
   ]
  },
  {
   "cell_type": "code",
   "execution_count": null,
   "metadata": {},
   "outputs": [],
   "source": [
    "plt.figure()\n",
    "plt.hist(data.ravel(), bins=50, density=True, alpha=0.5)\n",
    "plt.hist(HH.ravel(), bins=50, density=True, alpha=0.5);"
   ]
  },
  {
   "cell_type": "markdown",
   "metadata": {},
   "source": [
    "# Recursos de interés\n",
    "- [Compresión con wavelets](http://www.stat.columbia.edu/~jakulin/Wavelets/index.html)\n",
    "- [Wavelet denoising](https://scikit-image.org/docs/dev/auto_examples/filters/plot_denoise_wavelet.html)\n",
    "- [Introducción a wavelets con pywt](www.acme.byu.edu/wp-content/uploads/2017/08/Wavelets.pdf)\n",
    "- [Wavelets en machine learning](http://ataspinar.com/2018/12/21/a-guide-for-using-the-wavelet-transform-in-machine-learning/)"
   ]
  },
  {
   "cell_type": "code",
   "execution_count": null,
   "metadata": {},
   "outputs": [],
   "source": []
  }
 ],
 "metadata": {
  "kernelspec": {
   "display_name": "Python 3",
   "language": "python",
   "name": "python3"
  },
  "language_info": {
   "codemirror_mode": {
    "name": "ipython",
    "version": 3
   },
   "file_extension": ".py",
   "mimetype": "text/x-python",
   "name": "python",
   "nbconvert_exporter": "python",
   "pygments_lexer": "ipython3",
   "version": "3.8.1"
  }
 },
 "nbformat": 4,
 "nbformat_minor": 2
}
