{
 "cells": [
  {
   "cell_type": "code",
   "execution_count": null,
   "metadata": {},
   "outputs": [],
   "source": [
    "%matplotlib inline\n",
    "import numpy as np\n",
    "from matplotlib import rcParams\n",
    "rcParams['figure.dpi'] = 120\n",
    "import matplotlib.pyplot as plt\n",
    "from scipy import fftpack\n",
    "from IPython.display import YouTubeVideo\n",
    "from functools import partial\n",
    "YTVideo_formato = partial(YouTubeVideo, width=640, height=400, rel=0, modestbranding=1)\n",
    "\n",
    "def color2bw(img):\n",
    "    return np.dot(img, [0.299, 0.587, 0.114])"
   ]
  },
  {
   "cell_type": "markdown",
   "metadata": {},
   "source": [
    "# Introducción al procesamiento de imágenes digitales\n",
    "\n",
    "En esta lección veremos:\n",
    "\n",
    "- Señales bidimensionales\n",
    "- Definición de una imagen digital\n",
    "- Percepción y modelos de color"
   ]
  },
  {
   "cell_type": "markdown",
   "metadata": {},
   "source": [
    "## Una imagen como caso particular de una señal 2D\n",
    "\n",
    "El siguiente es un ejemplo de una señal que tiene dos variables independientes \n",
    "\n",
    "$$\n",
    "x, y \\rightarrow I(x,y)\n",
    "$$\n"
   ]
  },
  {
   "cell_type": "code",
   "execution_count": null,
   "metadata": {},
   "outputs": [],
   "source": [
    "YTVideo_formato('AEJgW2jUdMs')"
   ]
  },
  {
   "cell_type": "markdown",
   "metadata": {},
   "source": [
    "Podemos\n",
    "\n",
    "- Interpretar las variables independientes $x$ e $y$ como coordenadas en el espacio\n",
    "- Visualizar la variable dependiente $I(x,y)$ como un mapa de colores\n",
    "\n",
    "Bajo estas consideraciones se obtiene lo que llamamos una **imagen**\n",
    "\n",
    "A continuación definiremos formalmente una imagen"
   ]
  },
  {
   "cell_type": "markdown",
   "metadata": {},
   "source": [
    "## Definiendo una imagen digital\n",
    "\n",
    "Una imagen digital es una señal con:\n",
    "\n",
    "- Dos variables indepedientes discretas $x$ e $y$ que representan el espacio\n",
    "- Una o más variables dependientes $I(x,y)$ que representan la intensidad del color según una codificación\n",
    "\n",
    "En la práctica las imágenes digitales son un arreglo de NxM componentes\n",
    "\n",
    "- $N$, el número de filas, representa el **alto** de la imagen\n",
    "- $M$, el número de columnas, representa el **ancho** de la imagen\n",
    "\n",
    "```{note}\n",
    "Cada elemento del arreglo se llama **pixel** (picture element)\n",
    "```\n",
    "\n",
    "Los píxeles pueden ser \n",
    "\n",
    "- unidimensionales (imagen en blanco y negro)\n",
    "- multidimensionales (RGB, HSV, HSL)\n",
    "\n",
    "Un pixel suele representarse como una tupla donde cada componente\n",
    "\n",
    "- es un entero sin signo de 8bits: Intensidades en el rango $[0, 255]$\n",
    "- es un valor flotante en el rango $[0.0, 1.0]$\n",
    "\n",
    "A estos rangos les otorgamos una interpretación como mapa de color\n",
    "\n",
    "En la siguiente figura podemos ver una imagen digital en escala de grises\n",
    "\n",
    "<img src=\"../images/image_matrix.png\" width=\"600\">\n",
    "\n",
    "- A la izquierda: Representación en mapa de color, donde negro es 0.0 y blanco es 1.0\n",
    "- A la derecha: Representación numérica\n"
   ]
  },
  {
   "cell_type": "markdown",
   "metadata": {},
   "source": [
    "```{admonition} Pregunta\n",
    ":class: tip\n",
    "¿Qué representa una imagen?\n",
    "```"
   ]
  },
  {
   "cell_type": "markdown",
   "metadata": {},
   "source": [
    "Comúnmente una imagen (señal) es una representación de la intensidad luminica (rango óptico)\n",
    "\n",
    "Pero también se pueden representar otros rangos de radiación como los rayos ejes (radiografía) o la radiación infraroja (termografía) y otros fenómenos que no son electromagnéticos, por ejemplo un ultrasonido\n",
    "\n",
    "<table style=\"margin-left:auto;margin-right:auto;\">\n",
    "<tr><td>\n",
    "    <img src=\"https://upload.wikimedia.org/wikipedia/commons/2/28/Valdivian_sea_lions.JPG\" width=\"300\">\n",
    "</td><td>\n",
    "    <img src=\"https://upload.wikimedia.org/wikipedia/commons/8/8e/Termografia_kot.jpg\" width=\"300\">\n",
    "</td></tr>\n",
    "<tr><td>\n",
    "    <img src=\"https://upload.wikimedia.org/wikipedia/commons/thumb/9/9c/Lung_X-ray.jpg/600px-Lung_X-ray.jpg\" width=\"250\">\n",
    "</td><td>\n",
    "    <img src=\"https://upload.wikimedia.org/wikipedia/commons/c/c7/CRL_Crown_rump_length_12_weeks_ecografia_Dr._Wolfgang_Moroder.jpg\" width=\"300\"\n",
    "</td></tr>\n",
    "</table>\n",
    "\n",
    "*Todas las imágenes de esta lámina son de wikipedia"
   ]
  },
  {
   "cell_type": "markdown",
   "metadata": {},
   "source": [
    "```{admonition} Pregunta\n",
    ":class: tip\n",
    "¿Cómo se obtiene una imagen digital?\n",
    "```"
   ]
  },
  {
   "cell_type": "markdown",
   "metadata": {},
   "source": [
    "Para el caso electromagnético se aprovecha el **efecto fotoeléctrico**: Cuando un fotón impacta un conductor se desprenden electrones\n",
    "\n",
    "<img src=\"../images/photons-hit-silicon.jpg\" width=\"400\">\n",
    "\n",
    "Un sensor de tipo *Charged Coupled Device* (CCD) usa el efecto fotoelétrico para contar la cantidad de fotones que golpean su superficie durante un cierto tiempo\n",
    "\n",
    "- El CCD está dividido en una grilla \n",
    "- Cada elemento de la grilla tiene su propia \"cuenta\"\n",
    "- La cuenta se mapea como un valor numérico entero o flotante\n",
    "- Si la cuenta supera el valor máximo del sensor se observa **saturación**\n",
    "- Los receptores pueden ajustarse para aceptar fotones de un cierto rango de frecuencias (color)\n",
    "\n",
    "```{note}\n",
    "Los sensores CCD y CMOS son la base de las cámaras digitales modernas\n",
    "```"
   ]
  },
  {
   "cell_type": "markdown",
   "metadata": {},
   "source": [
    "## Manipulación de imágenes con Python\n",
    "\n",
    "Podemos usar `Matplotlib` para importar y visualizar imágenes\n",
    "\n",
    "- [`plt.imread()`](https://matplotlib.org/api/_as_gen/matplotlib.pyplot.imread.html): Lee una imagen y retorna un arreglo de `NumPy`\n",
    "- [`plt.imshow()`](https://matplotlib.org/3.2.1/api/_as_gen/matplotlib.pyplot.imshow.html): Dibuja un arreglo de NumPy como si fuera una imagen\n",
    "\n"
   ]
  },
  {
   "cell_type": "code",
   "execution_count": null,
   "metadata": {},
   "outputs": [],
   "source": [
    "img_color = plt.imread('../images/valdivia.jpg')\n",
    "print(\"Tamaño: %s\" %(repr(img_color.shape)))\n",
    "print(\"Tipo: %s\" %(img_color.dtype))\n",
    "\n",
    "print(\"Intensidad del pixel en la posición 0, 0: %s\" %(repr(img_color[0, 0, :])))"
   ]
  },
  {
   "cell_type": "code",
   "execution_count": null,
   "metadata": {},
   "outputs": [],
   "source": [
    "plt.figure(figsize=(6, 3), tight_layout=True)\n",
    "plt.imshow(img_color);"
   ]
  },
  {
   "cell_type": "markdown",
   "metadata": {},
   "source": [
    "Una vez importada la imagen es un arreglo \n",
    "\n",
    "> Podemos manipularla y transformarla con las funciones de `NumPy`, `Scipy` y otras librerías de Python\n",
    "\n",
    "**Ejemplo:**  `slicing` de la imagen"
   ]
  },
  {
   "cell_type": "code",
   "execution_count": null,
   "metadata": {},
   "outputs": [],
   "source": [
    "plt.figure(figsize=(6, 3), tight_layout=True)\n",
    "plt.imshow(img_color[100:500, 100:200]);"
   ]
  },
  {
   "cell_type": "markdown",
   "metadata": {},
   "source": [
    "**Ejemplo:**  Trasposición, inversión y espejado de la imagen"
   ]
  },
  {
   "cell_type": "code",
   "execution_count": null,
   "metadata": {},
   "outputs": [],
   "source": [
    "plt.figure(figsize=(6, 3), tight_layout=True)\n",
    "plt.imshow(np.transpose(img_color, axes=[1, 0, 2]));"
   ]
  },
  {
   "cell_type": "code",
   "execution_count": null,
   "metadata": {},
   "outputs": [],
   "source": [
    "plt.figure(figsize=(6, 3), tight_layout=True)\n",
    "plt.imshow(img_color[::-1, :, :]);"
   ]
  },
  {
   "cell_type": "code",
   "execution_count": null,
   "metadata": {},
   "outputs": [],
   "source": [
    "plt.figure(figsize=(6, 3), tight_layout=True)\n",
    "plt.imshow(img_color[:, ::-1, :]);"
   ]
  },
  {
   "cell_type": "markdown",
   "metadata": {},
   "source": [
    "## Modelo de color RGB\n",
    "\n",
    "La imagen que estabamos usando tiene tres canales"
   ]
  },
  {
   "cell_type": "code",
   "execution_count": null,
   "metadata": {},
   "outputs": [],
   "source": [
    "img_color.shape"
   ]
  },
  {
   "cell_type": "markdown",
   "metadata": {},
   "source": [
    "Cada canal se interpreta como la intensidad de color\n",
    "- en rojo\n",
    "- en verde\n",
    "- en azul\n",
    "respectivamente\n",
    "\n",
    "Esto corresponde al modelo de colores RGB (red, green, blue)\n",
    "\n",
    "> Combinando distintos valores de intensidad en rojo, verde y azul se obtienen los demás colores\n",
    "\n",
    "Podemos ver el contenido de cada canal de color por separado como"
   ]
  },
  {
   "cell_type": "code",
   "execution_count": null,
   "metadata": {},
   "outputs": [],
   "source": [
    "fig, ax = plt.subplots(1, 4, figsize=(9.5, 3.2), tight_layout=True); \n",
    "ax[0].imshow(img_color[:, 350:, :])\n",
    "ax[0].axis('off')\n",
    "for i, color_name in enumerate([\"R\", \"G\", \"B\"]):\n",
    "    ax[i+1].set_title(color_name)\n",
    "    ax[i+1].axis('off')\n",
    "    ax[i+1].imshow(img_color[:, 350:, i], cmap=plt.cm.Greys_r, vmin=0, vmax=255)"
   ]
  },
  {
   "cell_type": "markdown",
   "metadata": {},
   "source": [
    "Una imagen a color se forma al combinar tres imágenes de escala de grises"
   ]
  },
  {
   "cell_type": "markdown",
   "metadata": {},
   "source": [
    "## Visión humana\n",
    "\n",
    "El ojo humano tiene en su retina dos tipos de fotoreceptores: **bastones y conos**\n",
    "\n",
    "Los bastones \n",
    "\n",
    "- 120 millones aprox en la retina\n",
    "- Perciben intensidad pero no color\n",
    "- Requieren poco brillo para producir una señal\n",
    "- Tienen baja agudeza (menos sencibles a los detalles)\n",
    "\n",
    "Los conos \n",
    "\n",
    "- 6 millones aprox en la retina\n",
    "- Existen tres tipos de conos, cada uno sintonizado a una longitud de onda\n",
    "- Requieren mucho brillo para producir una señal\n",
    "- Tienen alta agudeza visual\n",
    "\n",
    "\n",
    "<img src=\"../images/cones_rods.png\" width=\"800\">\n",
    "\n",
    "\n",
    "Referencia: http://www.danielgmurphy.com/physics/1_intro/contents_phyics1.html\n",
    "\n"
   ]
  },
  {
   "cell_type": "markdown",
   "metadata": {},
   "source": [
    "La respuesta retinal inspira la siguiente transformación de RGB a escala de grises:\n",
    "\n",
    "$$\n",
    "I = 0.299 R + 0.587 G + 0.114 B\n",
    "$$\n"
   ]
  },
  {
   "cell_type": "code",
   "execution_count": null,
   "metadata": {},
   "outputs": [],
   "source": [
    "def color2bw(img):\n",
    "    return np.dot(img, [0.299, 0.587, 0.114]) "
   ]
  },
  {
   "cell_type": "code",
   "execution_count": null,
   "metadata": {},
   "outputs": [],
   "source": [
    "img_bw = color2bw(img_color)\n",
    "plt.figure(figsize=(8, 4), tight_layout=True) \n",
    "plt.imshow(img_bw, cmap=plt.cm.Greys_r);"
   ]
  },
  {
   "cell_type": "markdown",
   "metadata": {},
   "source": [
    "## Otros modelos de colores\n",
    "\n",
    "El modelo **HSV** (Hue, Saturation, Value) es muy usado en software de diseño y computación gráfica\n",
    "\n",
    "- Hue: Corresponde al tono o color puro\n",
    "- Saturation: Corresponde a ajustar el brillo\n",
    "- Value: Corresponde a mezclar con negro para generar sombras\n",
    "\n",
    "<img src=\"../images/hsv_cilinder.jpg\" width=\"400\">\n",
    "\n",
    "Por ejemplo, la imagen anterior en HSV"
   ]
  },
  {
   "cell_type": "code",
   "execution_count": null,
   "metadata": {},
   "outputs": [],
   "source": [
    "from matplotlib import colors\n",
    "\n",
    "img_color_hsv = colors.rgb_to_hsv(img_color)\n",
    "print(\"Shape: %s, Type: %s\" %(repr(img_color_hsv.shape), img_color_hsv.dtype))\n",
    "print(img_color_hsv[0, 0, :])\n",
    "\n",
    "fig, ax = plt.subplots(1, 4, figsize=(9.5, 3.2), tight_layout=True); \n",
    "ax[0].imshow(img_color[:, 350:, :])\n",
    "ax[1].set_title('H')\n",
    "ax[1].imshow(img_color_hsv[:, 350:, 0], plt.cm.hsv); \n",
    "ax[2].set_title('S')\n",
    "ax[2].imshow(img_color_hsv[:, 350:, 1], plt.cm.Greys_r); \n",
    "ax[3].set_title('V')\n",
    "ax[3].imshow(img_color_hsv[:, 350:, 2], plt.cm.Greys_r);\n",
    "for ax_ in ax:\n",
    "    ax_.axis('off')"
   ]
  },
  {
   "cell_type": "markdown",
   "metadata": {},
   "source": [
    "El estándar **YCbCr** corresponde a una familia de modelos muy usado en fotografía digital \n",
    "\n",
    "- Y, se llama luma, corresponde a la luminancia\n",
    "- Cb y Cr, se llaman chroma, corresponde a la \"diferencia en azul\" y \"diferencia en rojo\"\n",
    "\n",
    "Existe una transformación directa entere YCbCr y RGB\n",
    "\n",
    "$$\n",
    "Y = K_R R + K_G G + K_B B \\\\\n",
    "C_b = 0.5 \\frac{B - Y}{1 - K_B} \\\\\n",
    "C_R = 0.5 \\frac{R - Y}{1 - K_R}\n",
    "$$\n",
    "\n",
    "donde $K_R + K_G + K_B = 1$\n",
    "\n",
    "Los distintos modelos de la familia YCbCr se diferencia en sus valores de $K_R$, $K_G$ y $K_B$\n",
    "\n",
    "Por ejemplo la imagen anterior en YCbCr"
   ]
  },
  {
   "cell_type": "code",
   "execution_count": null,
   "metadata": {},
   "outputs": [],
   "source": [
    "# ITU-R BT.601 \n",
    "Kr = 0.299\n",
    "Kg = 0.587\n",
    "Kb = 0.114\n",
    "Y = np.dot(img_color, [Kr, Kg, Kb])\n",
    "Cb = 0.5*(img_color[:, :, 2] - Y)/(1-Kb)\n",
    "Cr = 0.5*(img_color[:, :, 0] - Y)/(1-Kr)\n",
    "\n",
    "fig, ax = plt.subplots(1, 4, figsize=(9.5, 3.2), tight_layout=True); \n",
    "ax[0].imshow(img_color[:, 350:, :])\n",
    "ax[1].set_title('Y')\n",
    "ax[1].imshow(Y[:, 350:], cmap=plt.cm.Greys_r); \n",
    "ax[2].set_title('Cb')\n",
    "ax[2].imshow(Cb[:, 350:], plt.cm.Greys_r); \n",
    "ax[3].set_title('Cr')\n",
    "ax[3].imshow(Cr[:, 350:], plt.cm.Greys_r);\n",
    "for ax_ in ax:\n",
    "    ax_.axis('off')\n"
   ]
  },
  {
   "cell_type": "code",
   "execution_count": null,
   "metadata": {},
   "outputs": [],
   "source": []
  }
 ],
 "metadata": {
  "kernelspec": {
   "display_name": "Python 3",
   "language": "python",
   "name": "python3"
  },
  "language_info": {
   "codemirror_mode": {
    "name": "ipython",
    "version": 3
   },
   "file_extension": ".py",
   "mimetype": "text/x-python",
   "name": "python",
   "nbconvert_exporter": "python",
   "pygments_lexer": "ipython3",
   "version": "3.7.10"
  }
 },
 "nbformat": 4,
 "nbformat_minor": 4
}
